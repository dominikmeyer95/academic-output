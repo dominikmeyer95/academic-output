{
  "nbformat": 4,
  "nbformat_minor": 0,
  "metadata": {
    "colab": {
      "provenance": [],
      "toc_visible": true,
      "mount_file_id": "18FNyoK3LhwGVDuhEKLS0A389-fazUw1V",
      "authorship_tag": "ABX9TyNQSpeV4Ev82Lj/SI+zCh5J",
      "include_colab_link": true
    },
    "kernelspec": {
      "name": "python3",
      "display_name": "Python 3"
    },
    "language_info": {
      "name": "python"
    }
  },
  "cells": [
    {
      "cell_type": "markdown",
      "metadata": {
        "id": "view-in-github",
        "colab_type": "text"
      },
      "source": [
        "<a href=\"https://colab.research.google.com/github/dominikmeyer95/academic-output/blob/feature%2Fadvanced_derivatives/advanced_derivatives/retail_options_trading.ipynb\" target=\"_parent\"><img src=\"https://colab.research.google.com/assets/colab-badge.svg\" alt=\"Open In Colab\"/></a>"
      ]
    },
    {
      "cell_type": "markdown",
      "source": [
        "# Advanced Derivatives\n",
        "\n",
        "* Group: Dominik Meyer, Sean Goedgeluk, Krzysztof Rentflejsz\n",
        "* Assignment: Exploit retail investors' impact on option pricing "
      ],
      "metadata": {
        "id": "yUu_RX1ZsEY0"
      }
    },
    {
      "cell_type": "markdown",
      "source": [
        "# Key Ressources & Notes\n",
        "\n",
        "**Tebaldi's opener:**\n",
        "* Retail investors do not use options for hedging but for leveraging upside\n",
        "* Thus, retail investors put price pressure on the call side of option markets\n",
        "* This phenomenon becomes more severe the easier the access to derivatives becomes, e.g. via neobroker like Robinhood\n",
        "\n",
        "**Notes on online articles:**\n",
        "* https://qz.com/2043668/the-real-reason-options-trading-pushed-robinhood-shares-higher\n",
        "* https://www.cboe.com/insights/posts/how-meme-stocks-impact-options-trading/\n",
        "\n",
        "* In meme stocks, delta hedging does not work anymore, because the typical negative correlation of the assets in the hedging portfolio (options and the underlying stock) has turned. When a stock price goes up, its implied volatility typically goes down as if a stock is going up, in theory it’s because investors have more certainty about its future cashflows and profits. Meme stocks flip this around: The equity may shoot up in price, but it’s reasonable to expect that this price increase is highly unstable, thus the implied volatility stays elevated. Investment banks hence hedge a short call buy a long call positionas this hedges the volatility risk as well.\n",
        "\n",
        "**Ideas:**\n",
        "* Have a look at implied volatility and its variation\n",
        "* Have a look at the volatility skew as it might be less skewed based on that information\n",
        "* (Have a look at the delta Skew, which indicates the demand for downside versus upside potential in options)"
      ],
      "metadata": {
        "id": "DGYqEZAltjpp"
      }
    },
    {
      "cell_type": "markdown",
      "source": [
        "# Table of Contents"
      ],
      "metadata": {
        "id": "e3HcySnP04AS"
      }
    },
    {
      "cell_type": "code",
      "source": [
        "# import required packages\n",
        "import numpy as np\n",
        "import pandas as pd\n",
        "import scipy as sp\n",
        "import plotly.express as px\n",
        "import plotly.graph_objects as go"
      ],
      "metadata": {
        "id": "nGAYZK3T0gGx"
      },
      "execution_count": 1,
      "outputs": []
    }
  ]
}