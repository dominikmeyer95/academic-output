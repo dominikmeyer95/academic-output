{
  "nbformat": 4,
  "nbformat_minor": 0,
  "metadata": {
    "colab": {
      "provenance": [],
      "include_colab_link": true
    },
    "kernelspec": {
      "name": "python3",
      "display_name": "Python 3"
    },
    "language_info": {
      "name": "python"
    }
  },
  "cells": [
    {
      "cell_type": "markdown",
      "metadata": {
        "id": "view-in-github",
        "colab_type": "text"
      },
      "source": [
        "<a href=\"https://colab.research.google.com/github/dominikmeyer95/academic-output/blob/feature%2Fapplied_numerical_finance/applied_numerical_finance/estimating_greeks.ipynb\" target=\"_parent\"><img src=\"https://colab.research.google.com/assets/colab-badge.svg\" alt=\"Open In Colab\"/></a>"
      ]
    },
    {
      "cell_type": "markdown",
      "source": [
        "# Applied Numerical Finance\n",
        "\n",
        "* Group: Dominik Meyer, Mikhail Borovkov, Brage Bakken, Emanuele Chiarini, Enrico Giannelli\n",
        "* Assignment: 10 Finite difference approach for the Greeks"
      ],
      "metadata": {
        "id": "b9cT6QD9q4KR"
      }
    },
    {
      "cell_type": "markdown",
      "source": [
        "# Key Resources & Notes\n",
        "\n",
        "* Explain theoretical dimension of estimation methods in 1.1\n",
        "* Estimate each Greek with all methods available and show potential difference in 1.2 (1.3)\n",
        "* Added \"Pathwise Method\" for now, in case we want to excel beyond demands\n",
        "* Added \"Likelihood Ratio Method\" for now, in case we want to excel beyond demands\n",
        "* Added \"Second Order Greeks\" for now, because task does not state exact scope\n",
        "* ..."
      ],
      "metadata": {
        "id": "zN99AY646c8Q"
      }
    },
    {
      "cell_type": "markdown",
      "source": [
        "# Table of Contents\n",
        "\n",
        "* 1 [Option Price Sensitivities](#chapter_1)\n",
        "    * 1.1 [Estimation Methods](#section_1_1)\n",
        "        * 1.1.1 [Closed Form Solutions](#subsection_1_1_1)\n",
        "        * 1.1.2 [Finite Difference Approximation](#subsection_1_1_2)\n",
        "        * 1.1.3 [The Pathwise Method](#subsection_1_1_3)\n",
        "        * 1.1.4 [The Likelihood Ratio Method](#subsection_1_1_4)\n",
        "    * 1.2 [First Order Greeks](#section_1_2)\n",
        "        * 1.2.1 [Delta: Option's Underlying Price Sensitivity](#subsection_1_2_1)\n",
        "        * 1.2.2 [Vega: Option's Volatility Sensitivity](#subsection_1_2_2)\n",
        "        * 1.2.3 [Theta: Option's Time Sensitivity](#subsection_1_2_3)\n",
        "        * 1.2.4 [Rho: Option's Interest Rate Sensitivity](#subsection_1_2_4)\n",
        "    * 1.3 [Second Order Greeks](#section_1_3)\n",
        "        * 1.3.1 [Charm: Delta's Time Sensitivity](#subsection_1_3_1)\n",
        "        * 1.3.2 [Gamma: Delta's Underlying Price Sensitivity](#subsection_1_3_2)\n",
        "        * 1.3.3 [Vanna: Vega's Underlying Price Sensitivity](#subsection_1_3_3)\n",
        "        * 1.3.4 [Vera: Vega's Interest Rate Sensitivity](#subsection_1_3_4)\n",
        "        * 1.3.5 [Veta: Vega's Time Sensitivity](#subsection_1_3_5)\n",
        "        * 1.3.6 [Volga: Vega's Volatility](#subsection_1_3_6)"
      ],
      "metadata": {
        "id": "mhUj4_RN7dqh"
      }
    },
    {
      "cell_type": "markdown",
      "source": [
        "<a class=\"anchor\" name=\"chapter_1\"></a>\n",
        "# 1 Option Price Sensitivities"
      ],
      "metadata": {
        "id": "EiB-umeL8dIN"
      }
    },
    {
      "cell_type": "code",
      "source": [
        "# import required packages\n",
        "import numpy as np\n",
        "import pandas as pd\n",
        "import scipy as sp\n",
        "import plotly.express as px\n",
        "import plotly.graph_objects as go"
      ],
      "metadata": {
        "id": "N1TS650OGU5Z"
      },
      "execution_count": 1,
      "outputs": []
    },
    {
      "cell_type": "code",
      "source": [
        "# build function for option pricing\n",
        "def price_option(S, K, r, t, sigma, direction, type, method):\n",
        "    \n",
        "    # calculate d1 and d2\n",
        "    d1 = (np.log(S/K) + (r + sigma**2/2)*t)/(sigma*np.sqrt(t))\n",
        "    d2 = d1 - sigma*np.sqrt(t)\n",
        "    \n",
        "    # calculate european option prices via black_scholes\n",
        "    if direction=='call' and type=='european' and method=='black_scholes':\n",
        "        c = S*norm.cdf(d1, 0, 1) - K*np.exp(-r*t)*norm.cdf(d2, 0, 1)\n",
        "        return c\n",
        "    elif direction=='put' and type=='european' and method=='black_scholes':\n",
        "        p = K*np.exp(-r*t)*norm.cdf(-d2, 0, 1) - S*norm.cdf(-d1, 0, 1)\n",
        "        return p\n",
        "    else:\n",
        "        pass"
      ],
      "metadata": {
        "id": "WRkOQVe2hA30"
      },
      "execution_count": 2,
      "outputs": []
    },
    {
      "cell_type": "markdown",
      "source": [
        "<a class=\"anchor\" name=\"section_1_1\"></a>\n",
        "## 1.1 Estimation Methods"
      ],
      "metadata": {
        "id": "26euIYbHBf-B"
      }
    },
    {
      "cell_type": "markdown",
      "source": [
        "<a class=\"anchor\" name=\"subsection_1_1_1\"></a>\n",
        "### 1.1.1 Closed Form Solutions"
      ],
      "metadata": {
        "id": "vX2-Q5KrDQZu"
      }
    },
    {
      "cell_type": "markdown",
      "source": [
        "* show analytical representation"
      ],
      "metadata": {
        "id": "YAqPLZMmEdW0"
      }
    },
    {
      "cell_type": "markdown",
      "source": [
        "<a class=\"anchor\" name=\"subsection_1_1_2\"></a>\n",
        "### 1.1.2 Finite Difference Approximation"
      ],
      "metadata": {
        "id": "WgxBcpE6DQPi"
      }
    },
    {
      "cell_type": "markdown",
      "source": [
        "* show numerical representation"
      ],
      "metadata": {
        "id": "ukN8HNDEEeIv"
      }
    },
    {
      "cell_type": "markdown",
      "source": [
        "<a class=\"anchor\" name=\"subsection_1_1_3\"></a>\n",
        "### 1.1.3 The Pathwise Method"
      ],
      "metadata": {
        "id": "8rplsSOhDQBA"
      }
    },
    {
      "cell_type": "markdown",
      "source": [
        "* add-on, to be developed or deleted"
      ],
      "metadata": {
        "id": "nnGhhrSQEe25"
      }
    },
    {
      "cell_type": "markdown",
      "source": [
        "<a class=\"anchor\" name=\"subsection_1_1_4\"></a>\n",
        "### 1.1.4 The Likelihood Ratio Method"
      ],
      "metadata": {
        "id": "scxY6ys_fYyZ"
      }
    },
    {
      "cell_type": "markdown",
      "source": [
        "* add-on, to be developed or deleted"
      ],
      "metadata": {
        "id": "lpviGCgifZl8"
      }
    },
    {
      "cell_type": "markdown",
      "source": [
        "<a class=\"anchor\" name=\"section_1_2\"></a>\n",
        "## 1.2 First Order Greeks"
      ],
      "metadata": {
        "id": "-umxK4gKABkq"
      }
    },
    {
      "cell_type": "markdown",
      "source": [
        "<a class=\"anchor\" name=\"subsection_1_2_1\"></a>\n",
        "### 1.2.1 Delta: Option's Underlying Price Sensitivity"
      ],
      "metadata": {
        "id": "nU8FzIME_aae"
      }
    },
    {
      "cell_type": "markdown",
      "source": [],
      "metadata": {
        "id": "RHm0YZ0rBl_U"
      }
    },
    {
      "cell_type": "code",
      "source": [],
      "metadata": {
        "id": "Iq6EtiNWBbQi"
      },
      "execution_count": null,
      "outputs": []
    },
    {
      "cell_type": "markdown",
      "source": [
        "<a class=\"anchor\" name=\"subsection_1_2_2\"></a>\n",
        "### 1.2.2 Vega: Option's Volatility Sensitivity"
      ],
      "metadata": {
        "id": "-w1lXJE2AVc7"
      }
    },
    {
      "cell_type": "code",
      "source": [],
      "metadata": {
        "id": "Zenf8DLEBnzX"
      },
      "execution_count": null,
      "outputs": []
    },
    {
      "cell_type": "markdown",
      "source": [
        "<a class=\"anchor\" name=\"subsection_1_2_3\"></a>\n",
        "### 1.2.3 Theta: Option's Time Sensitivity"
      ],
      "metadata": {
        "id": "bObSMuVbAVoL"
      }
    },
    {
      "cell_type": "markdown",
      "source": [],
      "metadata": {
        "id": "8uANNYIMBrQP"
      }
    },
    {
      "cell_type": "code",
      "source": [],
      "metadata": {
        "id": "sVX6tiFrBr2r"
      },
      "execution_count": null,
      "outputs": []
    },
    {
      "cell_type": "markdown",
      "source": [
        "<a class=\"anchor\" name=\"subsection_1_2_4\"></a>\n",
        "### 1.2.4 Rho: Option's Interest Rate Sensitivity"
      ],
      "metadata": {
        "id": "Bq5iRC62AVxb"
      }
    },
    {
      "cell_type": "markdown",
      "source": [],
      "metadata": {
        "id": "jBtPUn9SBtGm"
      }
    },
    {
      "cell_type": "code",
      "source": [],
      "metadata": {
        "id": "XVGpT8u3BtiJ"
      },
      "execution_count": null,
      "outputs": []
    },
    {
      "cell_type": "markdown",
      "source": [
        "<a class=\"anchor\" name=\"section_1_3\"></a>\n",
        "## 1.3 Second Order Greeks"
      ],
      "metadata": {
        "id": "Pj6-fsQcAV4l"
      }
    },
    {
      "cell_type": "markdown",
      "source": [],
      "metadata": {
        "id": "mjKKGzo5BulK"
      }
    },
    {
      "cell_type": "code",
      "source": [],
      "metadata": {
        "id": "VdWR8F1CBvC0"
      },
      "execution_count": null,
      "outputs": []
    },
    {
      "cell_type": "markdown",
      "source": [
        "<a class=\"anchor\" name=\"subsection_1_3_1\"></a>\n",
        "### 1.3.1 Charm: Delta's Time Sensitivity"
      ],
      "metadata": {
        "id": "YeCKvyw0AV-y"
      }
    },
    {
      "cell_type": "markdown",
      "source": [
        "* add-on, to be developed or deleted"
      ],
      "metadata": {
        "id": "m2s58ngcBw1U"
      }
    },
    {
      "cell_type": "code",
      "source": [],
      "metadata": {
        "id": "I6oJQHGXBxRj"
      },
      "execution_count": null,
      "outputs": []
    },
    {
      "cell_type": "markdown",
      "source": [
        "<a class=\"anchor\" name=\"subsection_1_3_2\"></a>\n",
        "### 1.3.2 Gamma: Delta's Underlying Price Sensitivity"
      ],
      "metadata": {
        "id": "cMmQDMCCAWEw"
      }
    },
    {
      "cell_type": "markdown",
      "source": [],
      "metadata": {
        "id": "NBlLMr40ByNq"
      }
    },
    {
      "cell_type": "code",
      "source": [],
      "metadata": {
        "id": "ZZ7Ke1UmByw1"
      },
      "execution_count": null,
      "outputs": []
    },
    {
      "cell_type": "markdown",
      "source": [
        "<a class=\"anchor\" name=\"subsection_1_3_3\"></a>\n",
        "### 1.3.3 Vanna: Vega's Underlying Price Sensitivity"
      ],
      "metadata": {
        "id": "i_KqPUeuBEAQ"
      }
    },
    {
      "cell_type": "markdown",
      "source": [
        "* add-on, to be developed or deleted"
      ],
      "metadata": {
        "id": "OsL-K4eXB0Ah"
      }
    },
    {
      "cell_type": "code",
      "source": [],
      "metadata": {
        "id": "C-687BcYBzIv"
      },
      "execution_count": null,
      "outputs": []
    },
    {
      "cell_type": "markdown",
      "source": [
        "<a class=\"anchor\" name=\"subsection_1_3_4\"></a>\n",
        "### 1.3.4 Vera: Vega's Interest Rate Sensitivity"
      ],
      "metadata": {
        "id": "Zj3dq2OKBGXK"
      }
    },
    {
      "cell_type": "markdown",
      "source": [
        "* add-on, to be developed or deleted"
      ],
      "metadata": {
        "id": "7_vVuaBRB2RB"
      }
    },
    {
      "cell_type": "code",
      "source": [],
      "metadata": {
        "id": "K27h_cXOB16o"
      },
      "execution_count": null,
      "outputs": []
    },
    {
      "cell_type": "markdown",
      "source": [
        "<a class=\"anchor\" name=\"subsection_1_3_5\"></a>\n",
        "### 1.3.5 Veta: Vega's Time Sensitivity"
      ],
      "metadata": {
        "id": "SwrvonzYBGhz"
      }
    },
    {
      "cell_type": "markdown",
      "source": [
        "* add-on, to be developed or deleted"
      ],
      "metadata": {
        "id": "hUFFS6fiB3Pe"
      }
    },
    {
      "cell_type": "code",
      "source": [],
      "metadata": {
        "id": "2l7mdRhaB3is"
      },
      "execution_count": null,
      "outputs": []
    },
    {
      "cell_type": "markdown",
      "source": [
        "<a class=\"anchor\" name=\"subsection_1_3_6\"></a>\n",
        "### 1.3.6 Volga: Vega's Volatility Sensitivity"
      ],
      "metadata": {
        "id": "d9dtt3dfBGqm"
      }
    },
    {
      "cell_type": "markdown",
      "source": [
        "* add-on, to be developed or deleted"
      ],
      "metadata": {
        "id": "R0zCAsLwB4zq"
      }
    },
    {
      "cell_type": "code",
      "source": [],
      "metadata": {
        "id": "YskrYFTfBUOz"
      },
      "execution_count": null,
      "outputs": []
    }
  ]
}