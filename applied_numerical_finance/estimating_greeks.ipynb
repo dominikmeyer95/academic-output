{
  "nbformat": 4,
  "nbformat_minor": 0,
  "metadata": {
    "colab": {
      "provenance": [],
      "include_colab_link": true
    },
    "kernelspec": {
      "name": "python3",
      "display_name": "Python 3"
    },
    "language_info": {
      "name": "python"
    }
  },
  "cells": [
    {
      "cell_type": "markdown",
      "metadata": {
        "id": "view-in-github",
        "colab_type": "text"
      },
      "source": [
        "<a href=\"https://colab.research.google.com/github/dominikmeyer95/academic-output/blob/feature%2Fapplied_numerical_finance/applied_numerical_finance/estimating_greeks.ipynb\" target=\"_parent\"><img src=\"https://colab.research.google.com/assets/colab-badge.svg\" alt=\"Open In Colab\"/></a>"
      ]
    },
    {
      "cell_type": "markdown",
      "source": [
        "# Applied Numerical Finance\n",
        "\n",
        "* Group: Dominik Meyer, Mikhail Borovkov, Brage Bakken, Emanuele Chiarini, Enrico Giannelli\n",
        "* Assignment: 10 Finite difference approach for the Greeks"
      ],
      "metadata": {
        "id": "b9cT6QD9q4KR"
      }
    },
    {
      "cell_type": "markdown",
      "source": [
        "# Key Resources & Notes\n",
        "\n",
        "* Explain theoretical dimension of estimation methods in 1.1\n",
        "* Estimate each Greek with all methods available and show potential difference in 1.2 (1.3)\n",
        "* Added \"Pathwise Method\" for now, in case we want to excel beyond demands\n",
        "* Added \"Likelihood Ratio Method\" for now, in case we want to excel beyond demands\n",
        "* Added \"Second Order Greeks\" for now, because task does not state exact scope\n",
        "* ..."
      ],
      "metadata": {
        "id": "zN99AY646c8Q"
      }
    },
    {
      "cell_type": "markdown",
      "source": [
        "# Table of Contents\n",
        "\n",
        "* 1 [Option Price Sensitivities](#chapter_1)\n",
        "    * 1.1 [Estimation Methods](#section_1_1)\n",
        "        * 1.1.1 [Closed Form Solutions](#subsection_1_1_1)\n",
        "        * 1.1.2 [Finite Difference Approximation](#subsection_1_1_2)\n",
        "        * 1.1.3 [The Pathwise Method](#subsection_1_1_3)\n",
        "        * 1.1.4 [The Likelihood Ratio Method](#subsection_1_1_4)\n",
        "    * 1.2 [First Order Greeks](#section_1_2)\n",
        "        * 1.2.1 [Delta: Option's Underlying Price Sensitivity](#subsection_1_2_1)\n",
        "        * 1.2.2 [Vega: Option's Volatility Sensitivity](#subsection_1_2_2)\n",
        "        * 1.2.3 [Theta: Option's Time Sensitivity](#subsection_1_2_3)\n",
        "        * 1.2.4 [Rho: Option's Interest Rate Sensitivity](#subsection_1_2_4)\n",
        "    * 1.3 [Second Order Greeks](#section_1_3)\n",
        "        * 1.3.1 [Charm: Delta's Time Sensitivity](#subsection_1_3_1)\n",
        "        * 1.3.2 [Gamma: Delta's Underlying Price Sensitivity](#subsection_1_3_2)\n",
        "        * 1.3.3 [Vanna: Vega's Underlying Price Sensitivity](#subsection_1_3_3)\n",
        "        * 1.3.4 [Vera: Vega's Interest Rate Sensitivity](#subsection_1_3_4)\n",
        "        * 1.3.5 [Veta: Vega's Time Sensitivity](#subsection_1_3_5)\n",
        "        * 1.3.6 [Volga: Vega's Volatility](#subsection_1_3_6)"
      ],
      "metadata": {
        "id": "mhUj4_RN7dqh"
      }
    },
    {
      "cell_type": "markdown",
      "source": [
        "<a class=\"anchor\" name=\"chapter_1\"></a>\n",
        "# 1 Option Price Sensitivities"
      ],
      "metadata": {
        "id": "EiB-umeL8dIN"
      }
    },
    {
      "cell_type": "code",
      "source": [
        "# import required packages\n",
        "import numpy as np\n",
        "import pandas as pd\n",
        "import scipy as sp\n",
        "from scipy.stats import norm\n",
        "import plotly.express as px\n",
        "import plotly.graph_objects as go"
      ],
      "metadata": {
        "id": "N1TS650OGU5Z"
      },
      "execution_count": 1,
      "outputs": []
    },
    {
      "cell_type": "code",
      "source": [
        "# build function for option pricing\n",
        "def price_option(S, K, r, t, sigma, direction, type, method):\n",
        "    \n",
        "    # calculate d1 and d2\n",
        "    d1 = (np.log(S/K) + (r + sigma**2/2)*t)/(sigma*np.sqrt(t))\n",
        "    d2 = d1 - sigma*np.sqrt(t)\n",
        "    \n",
        "    # calculate european option prices via black_scholes\n",
        "    if direction=='call' and type=='european' and method=='black_scholes':\n",
        "        c = S*norm.cdf(d1, 0, 1) - K*np.exp(-r*t)*norm.cdf(d2, 0, 1)\n",
        "        return c\n",
        "    elif direction=='put' and type=='european' and method=='black_scholes':\n",
        "        p = K*np.exp(-r*t)*norm.cdf(-d2, 0, 1) - S*norm.cdf(-d1, 0, 1)\n",
        "        return p\n",
        "    else:\n",
        "        pass"
      ],
      "metadata": {
        "id": "WRkOQVe2hA30"
      },
      "execution_count": 2,
      "outputs": []
    },
    {
      "cell_type": "code",
      "source": [
        "#  build function for greek estimation\n",
        "def estimate_greeks(S, K, r, t, sigma, direction, option_type, pricing_method, greek, estimation_method, h=0.01):\n",
        "    \"\"\"\n",
        "    Estimate option greeks using closed form or finite differences.\n",
        "    \"\"\"\n",
        "\n",
        "    # define general pricing parameters\n",
        "    d1 = (np.log(S/K) + (r + sigma**2/2)*t)/(sigma*np.sqrt(t))\n",
        "    d2 = d1 - sigma*np.sqrt(t)\n",
        "\n",
        "    # estimate delta\n",
        "    if greek == \"delta\":\n",
        "        # implement closed form estimation\n",
        "        if estimation_method == \"closed_form\":\n",
        "            if direction == \"call\":\n",
        "                delta = norm.cdf(d1, 0, 1)\n",
        "            elif direction == \"put\":\n",
        "                delta = -norm.cdf(-d1, 0, 1)\n",
        "            else:\n",
        "                pass\n",
        "        # implement finite difference estimation\n",
        "        if estimation_method in ['backward_difference', 'forward_difference', 'central_difference']:\n",
        "            # define finite difference parameters\n",
        "            actual_price = price_option(S=S, K=K, r=r, t=t, sigma=sigma, direction=direction, type=option_type, method=pricing_method)\n",
        "            forward_increment = price_option(S=S+h, K=K, r=r, t=t, sigma=sigma, direction=direction, type=option_type, method=pricing_method)\n",
        "            backward_increment = price_option(S=S-h, K=K, r=r, t=t, sigma=sigma, direction=direction, type=option_type, method=pricing_method)\n",
        "            # calculate finite differences\n",
        "            if estimation_method == \"backward_difference\":\n",
        "                delta = (actual_price - backward_increment)/h\n",
        "            elif estimation_method == \"forward_difference\":\n",
        "                delta = (forward_increment - actual_price)/h\n",
        "            elif estimation_method == \"central_difference\":\n",
        "                delta = (forward_increment - backward_increment)/(2*h)\n",
        "                # if direction == \"call\" or direction == \"put\":\n",
        "                # delta = finite_difference(lambda S: price_option(S=S, K=K, r=r, t=t, sigma=sigma, direction=direction, type=type, method=method), x=S, h=0.01, method=\"backward\")\n",
        "            else:\n",
        "                pass\n",
        "        else:\n",
        "            pass\n",
        "        return delta\n",
        "    \n",
        "    # estimate gamma\n",
        "    elif greek == \"gamma\":\n",
        "        # implement closed form estimation\n",
        "        if estimation_method == \"closed_form\":\n",
        "            if direction == \"call\" or direction == \"put\":\n",
        "                gamma = norm.pdf(d1, 0, 1)/(S*sigma*np.sqrt(t))\n",
        "            else:\n",
        "                pass\n",
        "        # implement finite difference estimation\n",
        "        if estimation_method in ['backward_difference', 'forward_difference', 'central_difference']:\n",
        "            # define finite difference parameters\n",
        "            actual_price = price_option(S=S, K=K, r=r, t=t, sigma=sigma, direction=direction, type=option_type, method=pricing_method)\n",
        "            forward_increment = price_option(S=S+h, K=K, r=r, t=t, sigma=sigma, direction=direction, type=option_type, method=pricing_method)\n",
        "            double_forward_increment = price_option(S=S+2*h, K=K, r=r, t=t, sigma=sigma, direction=direction, type=option_type, method=pricing_method)\n",
        "            backward_increment = price_option(S=S-h, K=K, r=r, t=t, sigma=sigma, direction=direction, type=option_type, method=pricing_method)\n",
        "            double_backward_increment = price_option(S=S-2*h, K=K, r=r, t=t, sigma=sigma, direction=direction, type=option_type, method=pricing_method)\n",
        "            # calculate finite differences\n",
        "            if estimation_method == \"backward_difference\":\n",
        "                gamma = (actual_price - 2*backward_increment + double_backward_increment)/(h**2)\n",
        "            elif estimation_method == \"forward_difference\":\n",
        "                gamma = (double_forward_increment - 2*forward_increment + actual_price)/(h**2)\n",
        "            elif estimation_method == \"central_difference\":\n",
        "                gamma = (forward_increment - 2*actual_price + backward_increment)/(h**2)\n",
        "            else:\n",
        "                pass\n",
        "        return gamma\n",
        "    \n",
        "    # estimate vega\n",
        "    elif greek == \"vega\":\n",
        "        # implement closed form estimation\n",
        "        if estimation_method == \"closed_form\":\n",
        "            if direction == \"call\" or direction == \"put\":\n",
        "                vega = S*norm.pdf(d1, 0, 1)*np.sqrt(t)\n",
        "            else:\n",
        "                pass\n",
        "        # implement finite difference estimation\n",
        "        if estimation_method in ['backward_difference', 'forward_difference', 'central_difference']:\n",
        "            # define finite difference parameters\n",
        "            actual_price = price_option(S=S, K=K, r=r, t=t, sigma=sigma, direction=direction, type=option_type, method=pricing_method)\n",
        "            forward_increment = price_option(S=S, K=K, r=r, t=t, sigma=sigma+h, direction=direction, type=option_type, method=pricing_method)\n",
        "            backward_increment = price_option(S=S, K=K, r=r, t=t, sigma=sigma-h, direction=direction, type=option_type, method=pricing_method)\n",
        "            # calculate finite differences\n",
        "            if estimation_method == \"backward_difference\":\n",
        "                vega = (actual_price - backward_increment)/h\n",
        "            elif estimation_method == \"forward_difference\":\n",
        "                vega = (forward_increment - actual_price)/h\n",
        "            elif estimation_method == \"central_difference\":\n",
        "                vega = (forward_increment - backward_increment)/(2*h)\n",
        "            else:\n",
        "                pass\n",
        "        # times by 0.01 for sensitivity to 1% change in volatility\n",
        "        return vega*0.01\n",
        "    \n",
        "    # estimate theta\n",
        "    elif greek == \"theta\":\n",
        "        # implement closed form estimation\n",
        "        if estimation_method == \"closed_form\":\n",
        "            if direction == \"call\":\n",
        "                theta = -(S*norm.pdf(d1, 0, 1)*sigma)/(2*np.sqrt(t)) - r*K*np.exp(-r*t)*norm.cdf(d2, 0, 1)\n",
        "            elif direction == \"put\":\n",
        "                theta = -(S*norm.pdf(d1, 0, 1)*sigma)/(2*np.sqrt(t)) + r*K*np.exp(-r*t)*norm.cdf(-d2, 0, 1)\n",
        "            else:\n",
        "                pass\n",
        "        # implement finite difference estimation\n",
        "        if estimation_method in ['backward_difference', 'forward_difference', 'central_difference']:\n",
        "            # define finite difference parameters\n",
        "            actual_price = price_option(S=S, K=K, r=r, t=t, sigma=sigma, direction=direction, type=option_type, method=pricing_method)\n",
        "            forward_increment = price_option(S=S, K=K, r=r, t=t+h, sigma=sigma, direction=direction, type=option_type, method=pricing_method)\n",
        "            backward_increment = price_option(S=S, K=K, r=r, t=t-h, sigma=sigma, direction=direction, type=option_type, method=pricing_method)\n",
        "            # calculate finite differences\n",
        "            if estimation_method == \"backward_difference\":\n",
        "                theta = -(actual_price - backward_increment)/h\n",
        "            elif estimation_method == \"forward_difference\":\n",
        "                theta = -(forward_increment - actual_price)/h\n",
        "            elif estimation_method == \"central_difference\":\n",
        "                theta = -(forward_increment - backward_increment)/(2*h)\n",
        "            else:\n",
        "                pass\n",
        "        # divide by 365 to get per day sensitivity\n",
        "        return theta/365\n",
        "    \n",
        "    # estimate rho\n",
        "    elif greek == \"rho\":\n",
        "        # implement closed form estimation\n",
        "        if estimation_method == \"closed_form\":\n",
        "            if direction == \"call\":\n",
        "                rho = K*t*np.exp(-r*t)*norm.cdf(d2, 0, 1)\n",
        "            elif direction == \"put\":\n",
        "                rho = -K*t*np.exp(-r*t)*norm.cdf(-d2, 0, 1)\n",
        "            else:\n",
        "                pass\n",
        "        # implement finite difference estimation\n",
        "        if estimation_method in ['backward_difference', 'forward_difference', 'central_difference']:\n",
        "            # define finite difference parameters\n",
        "            actual_price = price_option(S=S, K=K, r=r, t=t, sigma=sigma, direction=direction, type=option_type, method=pricing_method)\n",
        "            forward_increment = price_option(S=S, K=K, r=r+h, t=t, sigma=sigma, direction=direction, type=option_type, method=pricing_method)\n",
        "            backward_increment = price_option(S=S, K=K, r=r-h, t=t, sigma=sigma, direction=direction, type=option_type, method=pricing_method)\n",
        "            # calculate finite differences\n",
        "            if estimation_method == \"backward_difference\":\n",
        "                rho = (actual_price - backward_increment)/h\n",
        "            elif estimation_method == \"forward_difference\":\n",
        "                rho = (forward_increment - actual_price)/h\n",
        "            elif estimation_method == \"central_difference\":\n",
        "                rho = (forward_increment - backward_increment)/(2*h)\n",
        "            else:\n",
        "                pass\n",
        "        # times by 0.01 for sensitivity to 1% change in interest rate\n",
        "        return rho*0.01"
      ],
      "metadata": {
        "id": "xTICivlSiDNw"
      },
      "execution_count": 3,
      "outputs": []
    },
    {
      "cell_type": "code",
      "source": [
        "# quick sanity check (1/2)\n",
        "greeks={}\n",
        "greeks[\"delta\"]=estimate_greeks(S=30, K=40, r=0.01, t=240/365, sigma=0.3, direction='call', option_type='european', pricing_method='black_scholes', greek='delta', estimation_method='closed_form')\n",
        "greeks[\"gamma\"]=estimate_greeks(S=30, K=40, r=0.01, t=240/365, sigma=0.3, direction='call', option_type='european', pricing_method='black_scholes', greek='gamma', estimation_method='closed_form')\n",
        "greeks[\"vega\"]=estimate_greeks(S=30, K=40, r=0.01, t=240/365, sigma=0.3, direction='call', option_type='european', pricing_method='black_scholes', greek='vega', estimation_method='closed_form')\n",
        "greeks[\"theta\"]=estimate_greeks(S=30, K=40, r=0.01, t=240/365, sigma=0.3, direction='call', option_type='european', pricing_method='black_scholes', greek='theta', estimation_method='closed_form')\n",
        "greeks[\"roh\"]=estimate_greeks(S=30, K=40, r=0.01, t=240/365, sigma=0.3, direction='call', option_type='european', pricing_method='black_scholes', greek='rho', estimation_method='closed_form')\n",
        "greeks"
      ],
      "metadata": {
        "colab": {
          "base_uri": "https://localhost:8080/"
        },
        "id": "CgTB5qlZiGR4",
        "outputId": "1b138c4b-2fb0-4ece-927b-0a4171d9f88e"
      },
      "execution_count": 4,
      "outputs": [
        {
          "output_type": "execute_result",
          "data": {
            "text/plain": [
              "{'delta': 0.15058613984880015,\n",
              " 'gamma': 0.03203161102008452,\n",
              " 'vega': 0.05686707929045143,\n",
              " 'theta': -0.003663899299916886,\n",
              " 'roh': 0.02632964262328151}"
            ]
          },
          "metadata": {},
          "execution_count": 4
        }
      ]
    },
    {
      "cell_type": "code",
      "source": [
        "# quick sanity check (2/2)\n",
        "greeks={}\n",
        "greeks[\"delta\"]=estimate_greeks(S=30, K=40, r=0.01, t=240/365, sigma=0.3, direction='call', option_type='european', pricing_method='black_scholes', greek='delta', estimation_method='central_difference')\n",
        "greeks[\"gamma\"]=estimate_greeks(S=30, K=40, r=0.01, t=240/365, sigma=0.3, direction='call', option_type='european', pricing_method='black_scholes', greek='gamma', estimation_method='central_difference')\n",
        "greeks[\"vega\"]=estimate_greeks(S=30, K=40, r=0.01, t=240/365, sigma=0.3, direction='call', option_type='european', pricing_method='black_scholes', greek='vega', estimation_method='central_difference')\n",
        "greeks[\"theta\"]=estimate_greeks(S=30, K=40, r=0.01, t=240/365, sigma=0.3, direction='call', option_type='european', pricing_method='black_scholes', greek='theta', estimation_method='central_difference')\n",
        "greeks[\"roh\"]=estimate_greeks(S=30, K=40, r=0.01, t=240/365, sigma=0.3, direction='call', option_type='european', pricing_method='black_scholes', greek='rho', estimation_method='central_difference')\n",
        "greeks"
      ],
      "metadata": {
        "colab": {
          "base_uri": "https://localhost:8080/"
        },
        "id": "O7HX-HKCiGxD",
        "outputId": "7c08c24d-fdf8-441f-e8ac-7de48a1a19de"
      },
      "execution_count": 5,
      "outputs": [
        {
          "output_type": "execute_result",
          "data": {
            "text/plain": [
              "{'delta': 0.15058619768681947,\n",
              " 'gamma': 0.032031608232507836,\n",
              " 'vega': 0.056843108939218956,\n",
              " 'theta': -0.0036637773862466896,\n",
              " 'roh': 0.02633427143720124}"
            ]
          },
          "metadata": {},
          "execution_count": 5
        }
      ]
    },
    {
      "cell_type": "markdown",
      "source": [
        "<a class=\"anchor\" name=\"section_1_1\"></a>\n",
        "## 1.1 Estimation Methods"
      ],
      "metadata": {
        "id": "26euIYbHBf-B"
      }
    },
    {
      "cell_type": "markdown",
      "source": [
        "<a class=\"anchor\" name=\"subsection_1_1_1\"></a>\n",
        "### 1.1.1 Closed Form Solutions"
      ],
      "metadata": {
        "id": "vX2-Q5KrDQZu"
      }
    },
    {
      "cell_type": "markdown",
      "source": [
        "* show analytical representation"
      ],
      "metadata": {
        "id": "YAqPLZMmEdW0"
      }
    },
    {
      "cell_type": "markdown",
      "source": [
        "<a class=\"anchor\" name=\"subsection_1_1_2\"></a>\n",
        "### 1.1.2 Finite Difference Approximation"
      ],
      "metadata": {
        "id": "WgxBcpE6DQPi"
      }
    },
    {
      "cell_type": "markdown",
      "source": [
        "* show numerical representation"
      ],
      "metadata": {
        "id": "ukN8HNDEEeIv"
      }
    },
    {
      "cell_type": "markdown",
      "source": [
        "<a class=\"anchor\" name=\"subsection_1_1_3\"></a>\n",
        "### 1.1.3 The Pathwise Method"
      ],
      "metadata": {
        "id": "8rplsSOhDQBA"
      }
    },
    {
      "cell_type": "markdown",
      "source": [
        "* add-on, to be developed or deleted"
      ],
      "metadata": {
        "id": "nnGhhrSQEe25"
      }
    },
    {
      "cell_type": "markdown",
      "source": [
        "<a class=\"anchor\" name=\"subsection_1_1_4\"></a>\n",
        "### 1.1.4 The Likelihood Ratio Method"
      ],
      "metadata": {
        "id": "scxY6ys_fYyZ"
      }
    },
    {
      "cell_type": "markdown",
      "source": [
        "* add-on, to be developed or deleted"
      ],
      "metadata": {
        "id": "lpviGCgifZl8"
      }
    },
    {
      "cell_type": "markdown",
      "source": [
        "<a class=\"anchor\" name=\"section_1_2\"></a>\n",
        "## 1.2 First Order Greeks"
      ],
      "metadata": {
        "id": "-umxK4gKABkq"
      }
    },
    {
      "cell_type": "markdown",
      "source": [
        "<a class=\"anchor\" name=\"subsection_1_2_1\"></a>\n",
        "### 1.2.1 Delta: Option's Underlying Price Sensitivity"
      ],
      "metadata": {
        "id": "nU8FzIME_aae"
      }
    },
    {
      "cell_type": "markdown",
      "source": [],
      "metadata": {
        "id": "RHm0YZ0rBl_U"
      }
    },
    {
      "cell_type": "code",
      "source": [],
      "metadata": {
        "id": "Iq6EtiNWBbQi"
      },
      "execution_count": 5,
      "outputs": []
    },
    {
      "cell_type": "markdown",
      "source": [
        "<a class=\"anchor\" name=\"subsection_1_2_2\"></a>\n",
        "### 1.2.2 Vega: Option's Volatility Sensitivity"
      ],
      "metadata": {
        "id": "-w1lXJE2AVc7"
      }
    },
    {
      "cell_type": "code",
      "source": [],
      "metadata": {
        "id": "Zenf8DLEBnzX"
      },
      "execution_count": 5,
      "outputs": []
    },
    {
      "cell_type": "markdown",
      "source": [
        "<a class=\"anchor\" name=\"subsection_1_2_3\"></a>\n",
        "### 1.2.3 Theta: Option's Time Sensitivity"
      ],
      "metadata": {
        "id": "bObSMuVbAVoL"
      }
    },
    {
      "cell_type": "markdown",
      "source": [],
      "metadata": {
        "id": "8uANNYIMBrQP"
      }
    },
    {
      "cell_type": "code",
      "source": [],
      "metadata": {
        "id": "sVX6tiFrBr2r"
      },
      "execution_count": 5,
      "outputs": []
    },
    {
      "cell_type": "markdown",
      "source": [
        "<a class=\"anchor\" name=\"subsection_1_2_4\"></a>\n",
        "### 1.2.4 Rho: Option's Interest Rate Sensitivity"
      ],
      "metadata": {
        "id": "Bq5iRC62AVxb"
      }
    },
    {
      "cell_type": "markdown",
      "source": [],
      "metadata": {
        "id": "jBtPUn9SBtGm"
      }
    },
    {
      "cell_type": "code",
      "source": [],
      "metadata": {
        "id": "XVGpT8u3BtiJ"
      },
      "execution_count": 5,
      "outputs": []
    },
    {
      "cell_type": "markdown",
      "source": [
        "<a class=\"anchor\" name=\"section_1_3\"></a>\n",
        "## 1.3 Second Order Greeks"
      ],
      "metadata": {
        "id": "Pj6-fsQcAV4l"
      }
    },
    {
      "cell_type": "markdown",
      "source": [],
      "metadata": {
        "id": "mjKKGzo5BulK"
      }
    },
    {
      "cell_type": "code",
      "source": [],
      "metadata": {
        "id": "VdWR8F1CBvC0"
      },
      "execution_count": 5,
      "outputs": []
    },
    {
      "cell_type": "markdown",
      "source": [
        "<a class=\"anchor\" name=\"subsection_1_3_1\"></a>\n",
        "### 1.3.1 Charm: Delta's Time Sensitivity"
      ],
      "metadata": {
        "id": "YeCKvyw0AV-y"
      }
    },
    {
      "cell_type": "markdown",
      "source": [
        "* add-on, to be developed or deleted"
      ],
      "metadata": {
        "id": "m2s58ngcBw1U"
      }
    },
    {
      "cell_type": "code",
      "source": [],
      "metadata": {
        "id": "I6oJQHGXBxRj"
      },
      "execution_count": 5,
      "outputs": []
    },
    {
      "cell_type": "markdown",
      "source": [
        "<a class=\"anchor\" name=\"subsection_1_3_2\"></a>\n",
        "### 1.3.2 Gamma: Delta's Underlying Price Sensitivity"
      ],
      "metadata": {
        "id": "cMmQDMCCAWEw"
      }
    },
    {
      "cell_type": "markdown",
      "source": [],
      "metadata": {
        "id": "NBlLMr40ByNq"
      }
    },
    {
      "cell_type": "code",
      "source": [],
      "metadata": {
        "id": "ZZ7Ke1UmByw1"
      },
      "execution_count": 5,
      "outputs": []
    },
    {
      "cell_type": "markdown",
      "source": [
        "<a class=\"anchor\" name=\"subsection_1_3_3\"></a>\n",
        "### 1.3.3 Vanna: Vega's Underlying Price Sensitivity"
      ],
      "metadata": {
        "id": "i_KqPUeuBEAQ"
      }
    },
    {
      "cell_type": "markdown",
      "source": [
        "* add-on, to be developed or deleted"
      ],
      "metadata": {
        "id": "OsL-K4eXB0Ah"
      }
    },
    {
      "cell_type": "code",
      "source": [],
      "metadata": {
        "id": "C-687BcYBzIv"
      },
      "execution_count": 5,
      "outputs": []
    },
    {
      "cell_type": "markdown",
      "source": [
        "<a class=\"anchor\" name=\"subsection_1_3_4\"></a>\n",
        "### 1.3.4 Vera: Vega's Interest Rate Sensitivity"
      ],
      "metadata": {
        "id": "Zj3dq2OKBGXK"
      }
    },
    {
      "cell_type": "markdown",
      "source": [
        "* add-on, to be developed or deleted"
      ],
      "metadata": {
        "id": "7_vVuaBRB2RB"
      }
    },
    {
      "cell_type": "code",
      "source": [],
      "metadata": {
        "id": "K27h_cXOB16o"
      },
      "execution_count": 5,
      "outputs": []
    },
    {
      "cell_type": "markdown",
      "source": [
        "<a class=\"anchor\" name=\"subsection_1_3_5\"></a>\n",
        "### 1.3.5 Veta: Vega's Time Sensitivity"
      ],
      "metadata": {
        "id": "SwrvonzYBGhz"
      }
    },
    {
      "cell_type": "markdown",
      "source": [
        "* add-on, to be developed or deleted"
      ],
      "metadata": {
        "id": "hUFFS6fiB3Pe"
      }
    },
    {
      "cell_type": "code",
      "source": [],
      "metadata": {
        "id": "2l7mdRhaB3is"
      },
      "execution_count": 5,
      "outputs": []
    },
    {
      "cell_type": "markdown",
      "source": [
        "<a class=\"anchor\" name=\"subsection_1_3_6\"></a>\n",
        "### 1.3.6 Volga: Vega's Volatility Sensitivity"
      ],
      "metadata": {
        "id": "d9dtt3dfBGqm"
      }
    },
    {
      "cell_type": "markdown",
      "source": [
        "* add-on, to be developed or deleted"
      ],
      "metadata": {
        "id": "R0zCAsLwB4zq"
      }
    },
    {
      "cell_type": "code",
      "source": [],
      "metadata": {
        "id": "YskrYFTfBUOz"
      },
      "execution_count": 5,
      "outputs": []
    }
  ]
}