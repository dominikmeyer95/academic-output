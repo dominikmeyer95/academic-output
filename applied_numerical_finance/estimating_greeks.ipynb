{
  "nbformat": 4,
  "nbformat_minor": 0,
  "metadata": {
    "colab": {
      "provenance": [],
      "include_colab_link": true
    },
    "kernelspec": {
      "name": "python3",
      "display_name": "Python 3"
    },
    "language_info": {
      "name": "python"
    }
  },
  "cells": [
    {
      "cell_type": "markdown",
      "metadata": {
        "id": "view-in-github",
        "colab_type": "text"
      },
      "source": [
        "<a href=\"https://colab.research.google.com/github/dominikmeyer95/academic-output/blob/feature%2Fapplied_numerical_finance/applied_numerical_finance/estimating_greeks.ipynb\" target=\"_parent\"><img src=\"https://colab.research.google.com/assets/colab-badge.svg\" alt=\"Open In Colab\"/></a>"
      ]
    },
    {
      "cell_type": "markdown",
      "source": [
        "# Applied Numerical Finance\n",
        "\n",
        "* Group: Dominik Meyer, Mikhail Borovkov, Brage Bakken, Emanuele Chiarini, Enrico Giannelli\n",
        "* Assignment: 10 Finite difference approach for the Greeks"
      ],
      "metadata": {
        "id": "b9cT6QD9q4KR"
      }
    },
    {
      "cell_type": "markdown",
      "source": [
        "# Key Resources & Notes\n",
        "\n",
        "* Explain theoretical dimension of estimation methods in 1.1\n",
        "* Estimate each Greek with all methods available and show potential difference in 1.2 (1.3)\n",
        "* Added \"Pathwise Method\" for now, in case we want to excel beyond demands\n",
        "* Added \"Likelihood Ratio Method\" for now, in case we want to excel beyond demands\n",
        "* Added \"Second Order Greeks\" for now, because task does not state exact scope\n",
        "* ..."
      ],
      "metadata": {
        "id": "zN99AY646c8Q"
      }
    },
    {
      "cell_type": "markdown",
      "source": [
        "# Table of Contents\n",
        "\n",
        "* 1 [Option Price Sensitivities](#chapter_1)\n",
        "    * 1.1 [Estimation Methods](#section_1_1)\n",
        "        * 1.1.1 [Closed Form Solutions](#subsection_1_1_1)\n",
        "        * 1.1.2 [Finite Difference Approximation](#subsection_1_1_2)\n",
        "        * 1.1.3 [The Pathwise Method](#subsection_1_1_3)\n",
        "        * 1.1.4 [The Likelihood Ratio Method](#subsection_1_1_4)\n",
        "    * 1.2 [First Order Greeks](#section_1_2)\n",
        "        * 1.2.1 [Delta: Option's Underlying Price Sensitivity](#subsection_1_2_1)\n",
        "        * 1.2.2 [Vega: Option's Volatility Sensitivity](#subsection_1_2_2)\n",
        "        * 1.2.3 [Theta: Option's Time Sensitivity](#subsection_1_2_3)\n",
        "        * 1.2.4 [Rho: Option's Interest Rate Sensitivity](#subsection_1_2_4)\n",
        "    * 1.3 [Second Order Greeks](#section_1_3)\n",
        "        * 1.3.1 [Charm: Delta's Time Sensitivity](#subsection_1_3_1)\n",
        "        * 1.3.2 [Gamma: Delta's Underlying Price Sensitivity](#subsection_1_3_2)\n",
        "        * 1.3.3 [Vanna: Vega's Underlying Price Sensitivity](#subsection_1_3_3)\n",
        "        * 1.3.4 [Vera: Vega's Interest Rate Sensitivity](#subsection_1_3_4)\n",
        "        * 1.3.5 [Veta: Vega's Time Sensitivity](#subsection_1_3_5)\n",
        "        * 1.3.6 [Volga: Vega's Volatility](#subsection_1_3_6)"
      ],
      "metadata": {
        "id": "mhUj4_RN7dqh"
      }
    },
    {
      "cell_type": "markdown",
      "source": [
        "<a class=\"anchor\" name=\"chapter_1\"></a>\n",
        "# 1 Option Price Sensitivities"
      ],
      "metadata": {
        "id": "EiB-umeL8dIN"
      }
    },
    {
      "cell_type": "code",
      "source": [
        "# import required packages\n",
        "import numpy as np\n",
        "import pandas as pd\n",
        "import scipy as sp\n",
        "from scipy.stats import norm\n",
        "import plotly.express as px\n",
        "import plotly.graph_objects as go\n",
        "from plotly.subplots import make_subplots"
      ],
      "metadata": {
        "id": "N1TS650OGU5Z"
      },
      "execution_count": 1,
      "outputs": []
    },
    {
      "cell_type": "code",
      "source": [
        "# build function for option pricing\n",
        "def price_option(S, K, r, t, sigma, direction, type, method):\n",
        "    \n",
        "    # calculate d1 and d2\n",
        "    d1 = (np.log(S/K) + (r + sigma**2/2)*t)/(sigma*np.sqrt(t))\n",
        "    d2 = d1 - sigma*np.sqrt(t)\n",
        "    \n",
        "    # calculate european option prices via black_scholes\n",
        "    if direction=='call' and type=='european' and method=='black_scholes':\n",
        "        c = S*norm.cdf(d1, 0, 1) - K*np.exp(-r*t)*norm.cdf(d2, 0, 1)\n",
        "        return c\n",
        "    elif direction=='put' and type=='european' and method=='black_scholes':\n",
        "        p = K*np.exp(-r*t)*norm.cdf(-d2, 0, 1) - S*norm.cdf(-d1, 0, 1)\n",
        "        return p\n",
        "    else:\n",
        "        pass"
      ],
      "metadata": {
        "id": "WRkOQVe2hA30"
      },
      "execution_count": 2,
      "outputs": []
    },
    {
      "cell_type": "code",
      "source": [
        "#  build function for greek estimation\n",
        "def estimate_greeks(S, K, r, t, sigma, direction, option_type, pricing_method, greek, estimation_method, h=0.01):\n",
        "    \"\"\"\n",
        "    Estimate option greeks using closed form or finite differences.\n",
        "    \"\"\"\n",
        "\n",
        "    # define general pricing parameters\n",
        "    d1 = (np.log(S/K) + (r + sigma**2/2)*t)/(sigma*np.sqrt(t))\n",
        "    d2 = d1 - sigma*np.sqrt(t)\n",
        "\n",
        "    # estimate delta\n",
        "    if greek == \"delta\":\n",
        "        # implement closed form estimation\n",
        "        if estimation_method == \"closed_form\":\n",
        "            if direction == \"call\":\n",
        "                delta = norm.cdf(d1, 0, 1)\n",
        "            elif direction == \"put\":\n",
        "                delta = -norm.cdf(-d1, 0, 1)\n",
        "            else:\n",
        "                pass\n",
        "        # implement finite difference estimation\n",
        "        if estimation_method in ['backward_difference', 'forward_difference', 'central_difference']:\n",
        "            # define finite difference parameters\n",
        "            actual_price = price_option(S=S, K=K, r=r, t=t, sigma=sigma, direction=direction, type=option_type, method=pricing_method)\n",
        "            forward_increment = price_option(S=S+h, K=K, r=r, t=t, sigma=sigma, direction=direction, type=option_type, method=pricing_method)\n",
        "            backward_increment = price_option(S=S-h, K=K, r=r, t=t, sigma=sigma, direction=direction, type=option_type, method=pricing_method)\n",
        "            # calculate finite differences\n",
        "            if estimation_method == \"backward_difference\":\n",
        "                delta = (actual_price - backward_increment)/h\n",
        "            elif estimation_method == \"forward_difference\":\n",
        "                delta = (forward_increment - actual_price)/h\n",
        "            elif estimation_method == \"central_difference\":\n",
        "                delta = (forward_increment - backward_increment)/(2*h)\n",
        "                # if direction == \"call\" or direction == \"put\":\n",
        "                # delta = finite_difference(lambda S: price_option(S=S, K=K, r=r, t=t, sigma=sigma, direction=direction, type=type, method=method), x=S, h=0.01, method=\"backward\")\n",
        "            else:\n",
        "                pass\n",
        "        else:\n",
        "            pass\n",
        "        return delta\n",
        "    \n",
        "    # estimate gamma\n",
        "    elif greek == \"gamma\":\n",
        "        # implement closed form estimation\n",
        "        if estimation_method == \"closed_form\":\n",
        "            if direction == \"call\" or direction == \"put\":\n",
        "                gamma = norm.pdf(d1, 0, 1)/(S*sigma*np.sqrt(t))\n",
        "            else:\n",
        "                pass\n",
        "        # implement finite difference estimation\n",
        "        if estimation_method in ['backward_difference', 'forward_difference', 'central_difference']:\n",
        "            # define finite difference parameters\n",
        "            actual_price = price_option(S=S, K=K, r=r, t=t, sigma=sigma, direction=direction, type=option_type, method=pricing_method)\n",
        "            forward_increment = price_option(S=S+h, K=K, r=r, t=t, sigma=sigma, direction=direction, type=option_type, method=pricing_method)\n",
        "            double_forward_increment = price_option(S=S+2*h, K=K, r=r, t=t, sigma=sigma, direction=direction, type=option_type, method=pricing_method)\n",
        "            backward_increment = price_option(S=S-h, K=K, r=r, t=t, sigma=sigma, direction=direction, type=option_type, method=pricing_method)\n",
        "            double_backward_increment = price_option(S=S-2*h, K=K, r=r, t=t, sigma=sigma, direction=direction, type=option_type, method=pricing_method)\n",
        "            # calculate finite differences\n",
        "            if estimation_method == \"backward_difference\":\n",
        "                gamma = (actual_price - 2*backward_increment + double_backward_increment)/(h**2)\n",
        "            elif estimation_method == \"forward_difference\":\n",
        "                gamma = (double_forward_increment - 2*forward_increment + actual_price)/(h**2)\n",
        "            elif estimation_method == \"central_difference\":\n",
        "                gamma = (forward_increment - 2*actual_price + backward_increment)/(h**2)\n",
        "            else:\n",
        "                pass\n",
        "        return gamma\n",
        "    \n",
        "    # estimate vega\n",
        "    elif greek == \"vega\":\n",
        "        # implement closed form estimation\n",
        "        if estimation_method == \"closed_form\":\n",
        "            if direction == \"call\" or direction == \"put\":\n",
        "                vega = S*norm.pdf(d1, 0, 1)*np.sqrt(t)\n",
        "            else:\n",
        "                pass\n",
        "        # implement finite difference estimation\n",
        "        if estimation_method in ['backward_difference', 'forward_difference', 'central_difference']:\n",
        "            # define finite difference parameters\n",
        "            actual_price = price_option(S=S, K=K, r=r, t=t, sigma=sigma, direction=direction, type=option_type, method=pricing_method)\n",
        "            forward_increment = price_option(S=S, K=K, r=r, t=t, sigma=sigma+h, direction=direction, type=option_type, method=pricing_method)\n",
        "            backward_increment = price_option(S=S, K=K, r=r, t=t, sigma=sigma-h, direction=direction, type=option_type, method=pricing_method)\n",
        "            # calculate finite differences\n",
        "            if estimation_method == \"backward_difference\":\n",
        "                vega = (actual_price - backward_increment)/h\n",
        "            elif estimation_method == \"forward_difference\":\n",
        "                vega = (forward_increment - actual_price)/h\n",
        "            elif estimation_method == \"central_difference\":\n",
        "                vega = (forward_increment - backward_increment)/(2*h)\n",
        "            else:\n",
        "                pass\n",
        "        # times by 0.01 for sensitivity to 1% change in volatility\n",
        "        return vega*0.01\n",
        "    \n",
        "    # estimate theta\n",
        "    elif greek == \"theta\":\n",
        "        # implement closed form estimation\n",
        "        if estimation_method == \"closed_form\":\n",
        "            if direction == \"call\":\n",
        "                theta = -(S*norm.pdf(d1, 0, 1)*sigma)/(2*np.sqrt(t)) - r*K*np.exp(-r*t)*norm.cdf(d2, 0, 1)\n",
        "            elif direction == \"put\":\n",
        "                theta = -(S*norm.pdf(d1, 0, 1)*sigma)/(2*np.sqrt(t)) + r*K*np.exp(-r*t)*norm.cdf(-d2, 0, 1)\n",
        "            else:\n",
        "                pass\n",
        "        # implement finite difference estimation\n",
        "        if estimation_method in ['backward_difference', 'forward_difference', 'central_difference']:\n",
        "            # define finite difference parameters\n",
        "            actual_price = price_option(S=S, K=K, r=r, t=t, sigma=sigma, direction=direction, type=option_type, method=pricing_method)\n",
        "            forward_increment = price_option(S=S, K=K, r=r, t=t+h, sigma=sigma, direction=direction, type=option_type, method=pricing_method)\n",
        "            backward_increment = price_option(S=S, K=K, r=r, t=t-h, sigma=sigma, direction=direction, type=option_type, method=pricing_method)\n",
        "            # calculate finite differences\n",
        "            if estimation_method == \"backward_difference\":\n",
        "                theta = -(actual_price - backward_increment)/h\n",
        "            elif estimation_method == \"forward_difference\":\n",
        "                theta = -(forward_increment - actual_price)/h\n",
        "            elif estimation_method == \"central_difference\":\n",
        "                theta = -(forward_increment - backward_increment)/(2*h)\n",
        "            else:\n",
        "                pass\n",
        "        # divide by 365 to get per day sensitivity\n",
        "        return theta/365\n",
        "    \n",
        "    # estimate rho\n",
        "    elif greek == \"rho\":\n",
        "        # implement closed form estimation\n",
        "        if estimation_method == \"closed_form\":\n",
        "            if direction == \"call\":\n",
        "                rho = K*t*np.exp(-r*t)*norm.cdf(d2, 0, 1)\n",
        "            elif direction == \"put\":\n",
        "                rho = -K*t*np.exp(-r*t)*norm.cdf(-d2, 0, 1)\n",
        "            else:\n",
        "                pass\n",
        "        # implement finite difference estimation\n",
        "        if estimation_method in ['backward_difference', 'forward_difference', 'central_difference']:\n",
        "            # define finite difference parameters\n",
        "            actual_price = price_option(S=S, K=K, r=r, t=t, sigma=sigma, direction=direction, type=option_type, method=pricing_method)\n",
        "            forward_increment = price_option(S=S, K=K, r=r+h, t=t, sigma=sigma, direction=direction, type=option_type, method=pricing_method)\n",
        "            backward_increment = price_option(S=S, K=K, r=r-h, t=t, sigma=sigma, direction=direction, type=option_type, method=pricing_method)\n",
        "            # calculate finite differences\n",
        "            if estimation_method == \"backward_difference\":\n",
        "                rho = (actual_price - backward_increment)/h\n",
        "            elif estimation_method == \"forward_difference\":\n",
        "                rho = (forward_increment - actual_price)/h\n",
        "            elif estimation_method == \"central_difference\":\n",
        "                rho = (forward_increment - backward_increment)/(2*h)\n",
        "            else:\n",
        "                pass\n",
        "        # times by 0.01 for sensitivity to 1% change in interest rate\n",
        "        return rho*0.01"
      ],
      "metadata": {
        "id": "xTICivlSiDNw"
      },
      "execution_count": 3,
      "outputs": []
    },
    {
      "cell_type": "code",
      "source": [
        "# quick sanity check (1/2)\n",
        "greeks={}\n",
        "greeks[\"delta\"]=estimate_greeks(S=30, K=40, r=0.01, t=240/365, sigma=0.3, direction='call', option_type='european', pricing_method='black_scholes', greek='delta', estimation_method='closed_form')\n",
        "greeks[\"gamma\"]=estimate_greeks(S=30, K=40, r=0.01, t=240/365, sigma=0.3, direction='call', option_type='european', pricing_method='black_scholes', greek='gamma', estimation_method='closed_form')\n",
        "greeks[\"vega\"]=estimate_greeks(S=30, K=40, r=0.01, t=240/365, sigma=0.3, direction='call', option_type='european', pricing_method='black_scholes', greek='vega', estimation_method='closed_form')\n",
        "greeks[\"theta\"]=estimate_greeks(S=30, K=40, r=0.01, t=240/365, sigma=0.3, direction='call', option_type='european', pricing_method='black_scholes', greek='theta', estimation_method='closed_form')\n",
        "greeks[\"roh\"]=estimate_greeks(S=30, K=40, r=0.01, t=240/365, sigma=0.3, direction='call', option_type='european', pricing_method='black_scholes', greek='rho', estimation_method='closed_form')\n",
        "greeks"
      ],
      "metadata": {
        "colab": {
          "base_uri": "https://localhost:8080/"
        },
        "id": "CgTB5qlZiGR4",
        "outputId": "d9946dc0-68f2-4b1f-c0f4-88fa74baf347"
      },
      "execution_count": 4,
      "outputs": [
        {
          "output_type": "execute_result",
          "data": {
            "text/plain": [
              "{'delta': 0.15058613984880015,\n",
              " 'gamma': 0.03203161102008452,\n",
              " 'vega': 0.05686707929045143,\n",
              " 'theta': -0.003663899299916886,\n",
              " 'roh': 0.02632964262328151}"
            ]
          },
          "metadata": {},
          "execution_count": 4
        }
      ]
    },
    {
      "cell_type": "code",
      "source": [
        "# quick sanity check (2/2)\n",
        "greeks={}\n",
        "greeks[\"delta\"]=estimate_greeks(S=30, K=40, r=0.01, t=240/365, sigma=0.3, direction='call', option_type='european', pricing_method='black_scholes', greek='delta', estimation_method='central_difference')\n",
        "greeks[\"gamma\"]=estimate_greeks(S=30, K=40, r=0.01, t=240/365, sigma=0.3, direction='call', option_type='european', pricing_method='black_scholes', greek='gamma', estimation_method='central_difference')\n",
        "greeks[\"vega\"]=estimate_greeks(S=30, K=40, r=0.01, t=240/365, sigma=0.3, direction='call', option_type='european', pricing_method='black_scholes', greek='vega', estimation_method='central_difference')\n",
        "greeks[\"theta\"]=estimate_greeks(S=30, K=40, r=0.01, t=240/365, sigma=0.3, direction='call', option_type='european', pricing_method='black_scholes', greek='theta', estimation_method='central_difference')\n",
        "greeks[\"roh\"]=estimate_greeks(S=30, K=40, r=0.01, t=240/365, sigma=0.3, direction='call', option_type='european', pricing_method='black_scholes', greek='rho', estimation_method='central_difference')\n",
        "greeks"
      ],
      "metadata": {
        "colab": {
          "base_uri": "https://localhost:8080/"
        },
        "id": "O7HX-HKCiGxD",
        "outputId": "1130cd48-b0fa-499d-b9b7-d75e32e402a0"
      },
      "execution_count": 5,
      "outputs": [
        {
          "output_type": "execute_result",
          "data": {
            "text/plain": [
              "{'delta': 0.15058619768681947,\n",
              " 'gamma': 0.032031608232507836,\n",
              " 'vega': 0.056843108939218956,\n",
              " 'theta': -0.0036637773862466896,\n",
              " 'roh': 0.02633427143720124}"
            ]
          },
          "metadata": {},
          "execution_count": 5
        }
      ]
    },
    {
      "cell_type": "markdown",
      "source": [
        "<a class=\"anchor\" name=\"section_1_1\"></a>\n",
        "## 1.1 Estimation Methods"
      ],
      "metadata": {
        "id": "26euIYbHBf-B"
      }
    },
    {
      "cell_type": "markdown",
      "source": [
        "<a class=\"anchor\" name=\"subsection_1_1_1\"></a>\n",
        "### 1.1.1 Closed Form Solutions"
      ],
      "metadata": {
        "id": "vX2-Q5KrDQZu"
      }
    },
    {
      "cell_type": "markdown",
      "source": [
        "* show analytical representation"
      ],
      "metadata": {
        "id": "YAqPLZMmEdW0"
      }
    },
    {
      "cell_type": "markdown",
      "source": [
        "<a class=\"anchor\" name=\"subsection_1_1_2\"></a>\n",
        "### 1.1.2 Finite Difference Approximation"
      ],
      "metadata": {
        "id": "WgxBcpE6DQPi"
      }
    },
    {
      "cell_type": "markdown",
      "source": [
        "* show numerical representation"
      ],
      "metadata": {
        "id": "ukN8HNDEEeIv"
      }
    },
    {
      "cell_type": "markdown",
      "source": [
        "<a class=\"anchor\" name=\"subsection_1_1_3\"></a>\n",
        "### 1.1.3 The Pathwise Method"
      ],
      "metadata": {
        "id": "8rplsSOhDQBA"
      }
    },
    {
      "cell_type": "markdown",
      "source": [
        "* add-on, to be developed or deleted"
      ],
      "metadata": {
        "id": "nnGhhrSQEe25"
      }
    },
    {
      "cell_type": "markdown",
      "source": [
        "<a class=\"anchor\" name=\"subsection_1_1_4\"></a>\n",
        "### 1.1.4 The Likelihood Ratio Method"
      ],
      "metadata": {
        "id": "scxY6ys_fYyZ"
      }
    },
    {
      "cell_type": "markdown",
      "source": [
        "* add-on, to be developed or deleted"
      ],
      "metadata": {
        "id": "lpviGCgifZl8"
      }
    },
    {
      "cell_type": "markdown",
      "source": [
        "<a class=\"anchor\" name=\"section_1_2\"></a>\n",
        "## 1.2 First Order Greeks"
      ],
      "metadata": {
        "id": "-umxK4gKABkq"
      }
    },
    {
      "cell_type": "markdown",
      "source": [
        "<a class=\"anchor\" name=\"subsection_1_2_1\"></a>\n",
        "### 1.2.1 Delta: Option's Underlying Price Sensitivity"
      ],
      "metadata": {
        "id": "nU8FzIME_aae"
      }
    },
    {
      "cell_type": "markdown",
      "source": [],
      "metadata": {
        "id": "RHm0YZ0rBl_U"
      }
    },
    {
      "cell_type": "code",
      "source": [
        "# define parameters\n",
        "S = 100\n",
        "K = 100\n",
        "T = 1\n",
        "r = 0.00\n",
        "sigma = 0.25\n",
        "prices = np.arange(1, 250,1)\n",
        "increments = [3.0, 2.5, 2.0, 1.5, 1, 0.5, 0.1]\n",
        "\n",
        "# calculate delta\n",
        "results = pd.DataFrame()\n",
        "results[\"delta_closed_form\"] = estimate_greeks(S=prices, K=K, r=r, t=T, sigma=sigma, direction='call', option_type='european', pricing_method='black_scholes', greek='delta', estimation_method='closed_form')\n",
        "for h in increments:\n",
        "    delta_finite_difference = estimate_greeks(S=prices, K=K, r=r, t=T, sigma=sigma, direction='call', option_type='european', pricing_method='black_scholes', greek='delta', estimation_method='central_difference', h=h)\n",
        "    estimation_error = results[\"delta_closed_form\"] - delta_finite_difference\n",
        "    results[\"estimation error (h={})\".format(str(h))] = estimation_error\n",
        "\n",
        "# plot delta\n",
        "fig = make_subplots(specs=[[{\"secondary_y\": True}]])\n",
        "fig.add_vline(x=K, line_width=3, line_dash=\"dash\", line_color=\"yellow\", name=\"strike price\", secondary_y=False)\n",
        "fig.add_scatter(x=prices, y=results[\"delta_closed_form\"], mode='lines', name='closed form delta', secondary_y=False)\n",
        "for h in increments:\n",
        "    fig.add_scatter(x=prices, y=results[\"estimation error (h={})\".format(str(h))], mode='lines', name='estimation error (h={})'.format(str(h)), secondary_y=True)\n",
        "fig.update_layout(template=\"plotly_dark\", title_x=0.5, showlegend=True,\n",
        "legend=dict(orientation=\"h\", yanchor=\"bottom\", y=1.02, xanchor=\"right\", x=0.75))\n",
        "fig.update_xaxes(title_text='stock price', showgrid=True, gridcolor=\"grey\", ticks=\"outside\", tickwidth=1, tickcolor='grey', ticklen=5, linecolor=\"grey\")\n",
        "fig.update_yaxes(title_text='delta level', showgrid=True, gridcolor=\"grey\", ticks=\"outside\", tickwidth=1, tickcolor='grey', ticklen=5, linecolor=\"grey\", secondary_y=False)\n",
        "fig.update_yaxes(title_text='error level', showgrid=False, gridcolor=\"grey\", ticks=\"outside\", tickwidth=1, tickcolor='grey', ticklen=5, linecolor=\"grey\", secondary_y=True)\n",
        "fig.show(\"\")"
      ],
      "metadata": {
        "id": "Iq6EtiNWBbQi",
        "colab": {
          "base_uri": "https://localhost:8080/",
          "height": 631
        },
        "outputId": "dff4f16b-7b23-47b7-f4eb-0c97d7e91f0b"
      },
      "execution_count": 6,
      "outputs": [
        {
          "output_type": "stream",
          "name": "stderr",
          "text": [
            "/usr/local/lib/python3.7/dist-packages/ipykernel_launcher.py:5: RuntimeWarning: divide by zero encountered in log\n",
            "  \"\"\"\n",
            "/usr/local/lib/python3.7/dist-packages/ipykernel_launcher.py:5: RuntimeWarning: invalid value encountered in log\n",
            "  \"\"\"\n"
          ]
        },
        {
          "output_type": "display_data",
          "data": {
            "text/html": [
              "<html>\n",
              "<head><meta charset=\"utf-8\" /></head>\n",
              "<body>\n",
              "    <div>            <script src=\"https://cdnjs.cloudflare.com/ajax/libs/mathjax/2.7.5/MathJax.js?config=TeX-AMS-MML_SVG\"></script><script type=\"text/javascript\">if (window.MathJax) {MathJax.Hub.Config({SVG: {font: \"STIX-Web\"}});}</script>                <script type=\"text/javascript\">window.PlotlyConfig = {MathJaxConfig: 'local'};</script>\n",
              "        <script src=\"https://cdn.plot.ly/plotly-2.8.3.min.js\"></script>                <div id=\"5b233661-d91b-48d6-9d7d-50020174d1b1\" class=\"plotly-graph-div\" style=\"height:525px; width:100%;\"></div>            <script type=\"text/javascript\">                                    window.PLOTLYENV=window.PLOTLYENV || {};                                    if (document.getElementById(\"5b233661-d91b-48d6-9d7d-50020174d1b1\")) {                    Plotly.newPlot(                        \"5b233661-d91b-48d6-9d7d-50020174d1b1\",                        [{\"mode\":\"lines\",\"name\":\"closed form delta\",\"x\":[1,2,3,4,5,6,7,8,9,10,11,12,13,14,15,16,17,18,19,20,21,22,23,24,25,26,27,28,29,30,31,32,33,34,35,36,37,38,39,40,41,42,43,44,45,46,47,48,49,50,51,52,53,54,55,56,57,58,59,60,61,62,63,64,65,66,67,68,69,70,71,72,73,74,75,76,77,78,79,80,81,82,83,84,85,86,87,88,89,90,91,92,93,94,95,96,97,98,99,100,101,102,103,104,105,106,107,108,109,110,111,112,113,114,115,116,117,118,119,120,121,122,123,124,125,126,127,128,129,130,131,132,133,134,135,136,137,138,139,140,141,142,143,144,145,146,147,148,149,150,151,152,153,154,155,156,157,158,159,160,161,162,163,164,165,166,167,168,169,170,171,172,173,174,175,176,177,178,179,180,181,182,183,184,185,186,187,188,189,190,191,192,193,194,195,196,197,198,199,200,201,202,203,204,205,206,207,208,209,210,211,212,213,214,215,216,217,218,219,220,221,222,223,224,225,226,227,228,229,230,231,232,233,234,235,236,237,238,239,240,241,242,243,244,245,246,247,248,249],\"y\":[4.47875908071459e-75,1.2104921963540837e-54,3.1130369737051926e-44,1.5486952604283835e-37,9.787851211570547e-33,4.550527957480941e-29,3.801535949876022e-26,9.521345409893297e-24,9.832546220833399e-22,5.168736107529803e-20,1.6005284636611993e-18,3.242547655589319e-17,4.64535648881258e-16,4.99233375881558e-15,4.2133355950754924e-14,2.895260278283796e-13,1.6675520800027177e-12,8.242072303624396e-12,3.5643349700169725e-11,1.3705860364785524e-10,4.75002584249473e-10,1.5007978829981874e-09,4.365451868852045e-09,1.1788633554708403e-08,2.976995396042841e-08,7.07482892467806e-08,1.5910189214580939e-07,3.402236315861213e-07,6.947759520045167e-07,1.3600878778851012e-06,2.5609481011657015e-06,4.652213954876842e-06,8.1756376491237e-06,1.3933060919852444e-05,2.3077618540447624e-05,3.722381640616517e-05,5.8576335703017965e-05,9.007621314793993e-05,0.00013556173400985647,0.0001999400416292673,0.0002893642141106187,0.00041140948354214584,0.0005752414623578601,0.0007917687636658637,0.0010737723020021951,0.0014360038557269421,0.001895247152753395,0.0024703357729834808,0.0031821234879840393,0.004053404209330997,0.005108780409818543,0.0063744806304768045,0.007878128406804906,0.009648466562143293,0.011715042257544538,0.014107859402052808,0.016857005976111818,0.019992264480507956,0.02354271408545485,0.027536333124561992,0.031999610373874034,0.036957173104038656,0.04243143922840975,0.04844230003087032,0.05500683898629946,0.0621390911263181,0.06984984629429784,0.07814649851486699,0.08703294260859673,0.09650951814178416,0.10657299983863328,0.11721663271768024,0.1284302094596974,0.14020018687918456,0.15250983785993816,0.16533943472696427,0.1786664597585818,0.19246583838741493,0.20671019058834472,0.22137009599489793,0.2364143684114452,0.2518103355847725,0.26752412035271766,0.2835209195874837,0.2997652776853039,0.31622135171142707,0.33285316567995604,0.34962485182295766,0.366500877074655,0.3834462533577365,0.40042673060431755,0.41740897176943065,0.4343607093966701,0.4512508835713213,0.46804976134436915,0.48472903793036604,0.5012619201731111,0.5176231929358314,0.533789269207979,0.5497382248301129,0.5654498188231937,0.5809055003707682,0.5960884035438919,0.6109833308812552,0.6255767269428952,0.6398566429471569,0.6538126935791875,0.6674360070271671,0.6807191692614913,0.693656163523963,0.7062423059402745,0.7184741781111379,0.7303495574766201,0.7418673461857487,0.7530274991402699,0.7638309518184726,0.7742795484229688,0.784375970835907,0.7941236688067996,0.8035267917423856,0.8125901224150707,0.8213190128567063,0.8297193226579762,0.8377973598505417,0.8455598245094,0.8530137551766281,0.8601664781747753,0.867025559848533,0.8735987617468561,0.8798939987342861,0.8859192999996951,0.8916827729128577,0.8971925696639892,0.902456856608505,0.9074837862285473,0.9122814716141382,0.9168579633599689,0.9212212287686359,0.9253791332474479,0.9293394237835688,0.933109714381096,0.9366974733435467,0.9401100122860163,0.9433544767628462,0.9464378383988855,0.9493668884152432,0.9521482324437133,0.9547882865277132,0.9572932742115459,0.9596692246239877,0.9619219714665682,0.9640571528213716,0.9660802116977303,0.9679963972417129,0.9698107665368433,0.9715281869289463,0.9731533388124098,0.9746907188194255,0.9761446433579302,0.9775192524479871,0.9788185138102052,0.9800462271635013,0.9812060286930417,0.9823013956525645,0.9833356510684681,0.9843119685160684,0.9852333769412602,0.9861027655034897,0.9869228884184359,0.9876963697811375,0.9884257083524692,0.9891132822938908,0.9897613538372613,0.9903720738782378,0.9909474864833676,0.9914895333024438,0.9920000578790342,0.9924808098533143,0.9929334490524491,0.9933595494647777,0.9937606030949705,0.9941380236981507,0.9944931503917117,0.9948272511442249,0.9951415261414207,0.9954371110297465,0.9957150800384662,0.9959764489816684,0.9962221781419005,0.9964531750374467,0.9966702970755281,0.9968743540939196,0.9970661107936581,0.9972462890656698,0.9974155702142552,0.9975745970804696,0.9977239760684978,0.9978642790781713,0.9979960453467993,0.9981197832034968,0.9982359717391842,0.9983450623954156,0.9984474804751593,0.9985436265786148,0.9986338779671016,0.9987185898579919,0.9987980966536061,0.9988727131069082,0.9989427354267768,0.9990084423255444,0.9990700960114188,0.9991279431283223,0.9991822156455995,0.9992331316999615,0.9992808963919526,0.9993257025391383,0.9993677313881354,0.9994071532875187,0.9994441283235593,0.9994788069206704,0.9995113304083559,0.9995418315563845,0.9995704350798315,0.9995972581155641,0.9996224106716702,0.9996459960512645,0.9996681112520377,0.9996888473428539,0.9997082898186331,0.9997265189347013,0.9997436100217304,0.9997596337823362,0.9997746565703468,0.9997887406537059,0.9998019444619248,0.9998143228189493,0.9998259271622648,0.9998368057490183,0.9998470038498953,0.9998565639314517,0.9998655258275614,0.9998739269006065,0.9998818021930028,0.9998891845696196,0.9998961048516242,0.9999025919422518,0.9999086729449722,0.9999143732745,0.9999197167610705],\"type\":\"scatter\",\"xaxis\":\"x\",\"yaxis\":\"y\"},{\"mode\":\"lines\",\"name\":\"estimation error (h=3.0)\",\"x\":[1,2,3,4,5,6,7,8,9,10,11,12,13,14,15,16,17,18,19,20,21,22,23,24,25,26,27,28,29,30,31,32,33,34,35,36,37,38,39,40,41,42,43,44,45,46,47,48,49,50,51,52,53,54,55,56,57,58,59,60,61,62,63,64,65,66,67,68,69,70,71,72,73,74,75,76,77,78,79,80,81,82,83,84,85,86,87,88,89,90,91,92,93,94,95,96,97,98,99,100,101,102,103,104,105,106,107,108,109,110,111,112,113,114,115,116,117,118,119,120,121,122,123,124,125,126,127,128,129,130,131,132,133,134,135,136,137,138,139,140,141,142,143,144,145,146,147,148,149,150,151,152,153,154,155,156,157,158,159,160,161,162,163,164,165,166,167,168,169,170,171,172,173,174,175,176,177,178,179,180,181,182,183,184,185,186,187,188,189,190,191,192,193,194,195,196,197,198,199,200,201,202,203,204,205,206,207,208,209,210,211,212,213,214,215,216,217,218,219,220,221,222,223,224,225,226,227,228,229,230,231,232,233,234,235,236,237,238,239,240,241,242,243,244,245,246,247,248,249],\"y\":[null,null,-9.847590649357294e-31,-1.013012683795403e-27,-3.045724232590561e-25,-3.702676397514724e-23,-2.25616642499704e-21,-7.996477770467523e-20,-1.834505745070517e-18,-2.947819572749062e-17,-3.5213509600306147e-16,-3.273791674011355e-15,-2.4554946781895253e-14,-1.5291560720382147e-13,-8.093703317142671e-13,-3.712219080796697e-12,-1.499588346834783e-11,-5.409586540763972e-11,-1.7634359340585204e-10,-5.248227978029283e-10,-1.4387955390250767e-09,-3.6619272153551497e-09,-8.712129346058993e-09,-1.949268801332082e-08,-4.1236278768399996e-08,-8.287337110854269e-08,-1.588987523447937e-07,-2.917709251031288e-07,-5.148189678059277e-07,-8.755544015698245e-07,-1.4392001092404688e-06,-2.2921658366496734e-06,-3.545132886284129e-06,-5.335370948310284e-06,-7.827906312033565e-06,-1.1215197251125e-05,-1.5715048345613714e-05,-2.156660507612243e-05,-2.902440327933622e-05,-3.835059237293061e-05,-4.9805593001731204e-05,-6.36375759129024e-05,-8.00712484665179e-05,-9.929650031627736e-05,-0.00012145748615147406,-0.0001466427103605241,-0.00017487662882165753,-0.00020611320226339826,-0.00024023173124079669,-0.00027703518329892304,-0.00031625109715539834,-0.0003575350250555444,-0.0004004763601152001,-0.0004446062963037699,-0.0004894075889081539,-0.0005343257253290767,-0.0005787810807463753,-0.0006221816199772669,-0.0006639357139852607,-0.0007034646643533579,-0.0007402145683937586,-0.0007736672079053791,-0.0008033497023697614,-0.0008288427290766079,-0.0008497871753490524,-0.0008658891487653558,-0.0008769233280893768,-0.00088273468862754,-0.0008832386798134362,-0.0008784199693529504,-0.0008683298967014363,-0.0008530827994062823,-0.0008328513889976075,-0.00080786135942848,-0.0007783854112180799,-0.0007447368694057099,-0.0007072630640078403,-0.0006663386287923956,-0.0006223588588334661,-0.0005757332502118184,-0.0005268793272487915,-0.00047621684425275257,-0.00042416243074999693,-0.00037112473181455385,-0.0003175000788789295,-0.00026366871145483417,-0.00020999155691203697,-0.0001568075636375621,-0.00010443157300221717,-5.315270712807907e-05,-3.2332427736814218e-06,4.509206351133166e-05,9.161623755959969e-05,0.00013615997811655678,0.00017857121808290133,0.0002187243990931509,0.0002565195014891941,0.0002918808704595044,0.0003247558773094017,0.0003551134524526489,0.0003829425241066442,0.0004082503938531712,0.00043106107709822705,0.0004514136335854735,0.0004693605098331499,0.00048496591262603417,0.0004983042295985118,0.000509458510366434,0.0005185190190473143,0.0005255818666012324,0.0005307477294177465,0.0005341206583849845,0.0005358069812031463,0.0005359142989367349,0.0005345505766266578,0.0005318233265900751,0.0005278388820323388,0.0005227017578962601,0.0005165140951294278,0.0005093751841896976,0.000501381063109041,0.0004926241851980206,0.0004831931514760468,0.0004731725025888256,0.00046264256522865477,0.0004516793478944736,0.0004403544812437987,0.00042873519814168315,0.00041688434894238124,0.0004048604476896145,0.00039271774507732005,0.0003805063244581852,0.0003682722172382302,0.0003560575344635497,0.0003439006115338872,0.0003318361632191902,0.0003198954467059645,0.0003081064301008185,0.0002964939646490361,0.00028507995878557235,0.000273883552392884,0.0002629212899963873,0.0002522072916175677,0.00024175342034937763,0.00023156944573288207,0.0002216632023196441,0.00021204074269265405,0.00020270648464260077,0.00019366335208259589,0.00018491290942623806,0.0001764554893357584,0.00016829031361087488,0.00016041560738566663,0.00015282870649735436,0.00014552615816665337,0.00013850381515234655,0.00013175692344991052,0.00012528020380031535,0.00011906792715521419,0.0001131139843871809,0.00010741195038754814,0.00010195514295030517,9.673667654597207e-05,9.174951131218911e-05,8.698649760019439e-05,8.244041617300191e-05,7.810401447316817e-05,7.397003907139155e-05,7.00312646791934e-05,6.628051990453798e-05,6.271070987751148e-05,5.9314836205137667e-05,5.608601422746329e-05,5.301748795616401e-05,5.010264276827936e-05,4.7335016081784254e-05,4.470830629055289e-05,4.221637988166549e-05,3.985327713507125e-05,3.7613216423038054e-05,3.5490597268594826e-05,3.3480002286645494e-05,3.157619810889578e-05,2.9774135510085564e-05,2.806894861751008e-05,2.6455953533122134e-05,2.4930646300824755e-05,2.3488700365392745e-05,2.2125963562436013e-05,2.0838454708904663e-05,1.9622359915483223e-05,1.8474028577464274e-05,1.7389969118486448e-05,1.6366844662440982e-05,1.540146842116119e-05,1.4490799102429008e-05,1.363193619208225e-05,1.282211518993659e-05,1.2058702868689153e-05,1.1339192473092119e-05,1.0661199062900195e-05,1.002245475956176e-05,9.420804185200637e-06,8.854199851304756e-06,8.320697754471418e-06,7.818453009678095e-06,7.345715530848729e-06,6.9008259423464224e-06,6.482211485803191e-06,6.088382138669246e-06,5.717926807480289e-06,5.369509611385936e-06,5.041866378396875e-06,4.73380120713518e-06,4.444183139384883e-06,4.171943020603308e-06,3.916070413834127e-06,3.675610663833595e-06,3.4496621420521123e-06,3.237373462416926e-06,3.0379409593495055e-06,2.8506062071942395e-06,2.6746536452293412e-06,2.5094083587751115e-06,2.3542338764004356e-06,2.2085301464302987e-06,2.0717316032703437e-06,1.9433052796946626e-06,1.8227490207189945e-06,1.7095898371399798e-06,1.6033822602956604e-06,1.503706882455269e-06,1.4101688295964365e-06,1.3223964452357961e-06,1.2400399813650154e-06,1.1627703460082017e-06,1.0902779640220572e-06,1.022271614803394e-06,9.584774638415894e-07,8.986379613773465e-07,8.425110209486775e-07,7.898690497221139e-07,7.404980956193796e-07,6.941971495422194e-07,6.507772758457264e-07,6.100610052683919e-07,5.718815607735905e-07,5.360823183142571e-07,5.025161776694986e-07],\"type\":\"scatter\",\"xaxis\":\"x\",\"yaxis\":\"y2\"},{\"mode\":\"lines\",\"name\":\"estimation error (h=2.5)\",\"x\":[1,2,3,4,5,6,7,8,9,10,11,12,13,14,15,16,17,18,19,20,21,22,23,24,25,26,27,28,29,30,31,32,33,34,35,36,37,38,39,40,41,42,43,44,45,46,47,48,49,50,51,52,53,54,55,56,57,58,59,60,61,62,63,64,65,66,67,68,69,70,71,72,73,74,75,76,77,78,79,80,81,82,83,84,85,86,87,88,89,90,91,92,93,94,95,96,97,98,99,100,101,102,103,104,105,106,107,108,109,110,111,112,113,114,115,116,117,118,119,120,121,122,123,124,125,126,127,128,129,130,131,132,133,134,135,136,137,138,139,140,141,142,143,144,145,146,147,148,149,150,151,152,153,154,155,156,157,158,159,160,161,162,163,164,165,166,167,168,169,170,171,172,173,174,175,176,177,178,179,180,181,182,183,184,185,186,187,188,189,190,191,192,193,194,195,196,197,198,199,200,201,202,203,204,205,206,207,208,209,210,211,212,213,214,215,216,217,218,219,220,221,222,223,224,225,226,227,228,229,230,231,232,233,234,235,236,237,238,239,240,241,242,243,244,245,246,247,248,249],\"y\":[null,null,-1.9970799117224557e-32,-4.5386616451416023e-29,-2.4008758581824463e-26,-4.443952616204833e-24,-3.741260437317864e-22,-1.7110746172718654e-20,-4.817908502413851e-19,-9.145946678709364e-18,-1.2524547643675625e-16,-1.302840542839516e-15,-1.071900320164985e-14,-7.203918619581408e-14,-4.060273989672812e-13,-1.9614100197064236e-12,-8.270553053642098e-12,-3.0914846630587406e-11,-1.0380020388477636e-10,-3.1663250222178995e-10,-8.861340280107991e-10,-2.294733996952572e-09,-5.539703032422427e-09,-1.2548604631528848e-08,-2.682583102834068e-08,-5.439549007034623e-08,-1.0509392817768195e-07,-1.9423811982034313e-07,-3.4465395858098044e-07,-5.889941571320709e-07,-9.72214967555136e-07,-1.554022390602271e-06,-2.4110509236481204e-06,-3.6385094956837506e-06,-5.351026245890535e-06,-7.682449266417605e-06,-1.0784413756999356e-05,-1.4823563102050059e-05,-1.997740515045785e-05,-2.642888652999644e-05,-3.435986752727368e-05,-4.3943768736367e-05,-5.533773060970254e-05,-6.867467268468228e-05,-8.405565761572423e-05,-0.00010154295581832427,-0.00012115417150922701,-0.0001428577341127243,-0.00016656998567584702,-0.00019215401111232714,-0.00021942026997240262,-0.00024812900184417036,-0.0002779942975350905,-0.00030868965891294765,-0.0003398548146323014,-0.00037110351861837157,-0.0004020320337244192,-0.00043222799396075776,-0.000461279343917112,-0.0004887830715687817,-0.0005143534783217732,-0.0005376297654682283,-0.0005582827566614351,-0.0005760206191886344,-0.0005905934905726593,-0.0006017969594504374,-0.000609474389280204,-0.0006135181089447911,-0.0006138695250355874,-0.0006105182359557315,-0.0006035002477746826,-0.0005928954061047431,-0.0005788241673133909,-0.0005614438368281849,-0.0005409444021595988,-0.000517544084754129,-0.0004914847281726198,-0.00046302713102405746,-0.00043244642235865105,-0.0004000275652782659,-0.00036606106200848254,-0.00033083892073115795,-0.00029465093211367144,-0.0002577812911604971,-0.0002205055889154539,-0.00018308818801071602,-0.00014577998684917048,-0.00010881656907402171,-7.241672798941057e-05,-3.678134980805714e-05,-2.0926349705296943e-06,3.148636677807737e-05,6.381193451804323e-05,9.475959607746498e-05,0.00012422381926030512,0.00015211750404825475,0.00017837130506548338,0.0002029328126685881,0.00022576561979392729,0.0002468482999227195,0.0002661733198902061,0.0002837459090995198,0.00029958290470200044,0.000313711590083976,0.0003261685420278271,0.00033699849959678563,0.00034625326607862217,0.00035399065317387457,0.0003602734749924563,0.0003651685976736596,0.0003687460491447192,0.00037107819180537405,0.0003722389601277243,0.00037230316389613716,0.00037134585678511023,0.0003694417694262153,0.00036666480528846357,0.00036308759719616557,0.00035878112177922805,0.0003538143690609008,0.0003482540637376186,0.00034216443498702453,0.0003356070310727155,0.0003286405753653021,0.0003213208601385853,0.00031370067472458185,0.00030582976444815113,0.0002977548172726774,0.0002895194748016028,0.00028116436476166573,0.00027272715201309694,0.0002642426055919911,0.00025574267913619497,0.00024725660257862714,0.00023881098285261082,0.00023042991187383066,0.00022213507986479364,0.00021394589265666397,0.00020587959142104317,0.00019795137368738835,0.00019017451449010458,0.00018256048672471437,0.00017511907997003195,0.00016785851686629272,0.0001607855666787561,0.00015390565541983925,0.00014722297224545322,0.00014074057158675046,0.00013446047111398407,0.0001283837450353209,0.00012251061279400233,0.00011684052309746118,0.00011137223313628652,0.00010610388318521569,0.00010103306649611454,9.615689466713206e-05,9.147205852921836e-05,8.697488472908521e-05,8.266138810952839e-05,7.852732009261398e-05,7.456821319651308e-05,7.077942185285124e-05,6.715615977403999e-05,6.369353392610133e-05,6.038657544571446e-05,5.723026750215077e-05,5.421957050011361e-05,5.134944457929613e-05,4.8614869734064925e-05,4.601086363453799e-05,4.353249743527243e-05,4.117490945187985e-05,3.893331728788141e-05,3.680302804220936e-05,3.477944721697046e-05,3.2858086077336424e-05,3.103456781783365e-05,2.9304632503612815e-05,2.7664141034611234e-05,2.6109078128055963e-05,2.463555434628617e-05,2.3239807538821822e-05,2.191820342845041e-05,2.066723567473172e-05,1.9483525312113947e-05,1.8363819867084352e-05,1.7304991809852233e-05,1.6304036882464068e-05,1.5358071965621e-05,1.4464332712349481e-05,1.3620170949746324e-05,1.2823051953048115e-05,1.2070551445031441e-05,1.1360352560330078e-05,1.069024271471708e-05,1.0058110348265537e-05,9.461941671173868e-06,8.899817333318794e-06,8.369909165861777e-06,7.870476828819584e-06,7.399864541679513e-06,6.956497844767817e-06,6.538880371276257e-06,6.145590697337333e-06,5.775279230180175e-06,5.426665196761604e-06,5.098533670366834e-06,4.7897326707069254e-06,4.499170400906749e-06,4.225812484048852e-06,3.968679330612623e-06,3.7268435951753887e-06,3.4994277186006784e-06,3.2856015115267923e-06,3.0845798942857883e-06,2.8956206986618938e-06,2.718022488079619e-06,2.5511226146024413e-06,2.394295161911586e-06,2.2469491609555803e-06,2.1085267490894566e-06,1.9785014635509413e-06,1.8563765900037055e-06,1.7416836627370813e-06,1.633980868831486e-06,1.532851697239046e-06,1.437903574652566e-06,1.3487665467826204e-06,1.2650920577783609e-06,1.1865517984821494e-06,1.1128365688950481e-06,1.0436552353443318e-06,9.78733723622227e-07,9.178140586429961e-07,8.606534694921564e-07,8.070235568702344e-07,7.567094078009262e-07,7.095089160635837e-07,6.652319757272096e-07,6.236998796316229e-07,5.847445487816572e-07,5.482080310814652e-07,5.139418398636408e-07,4.81806441521293e-07,4.516706928470171e-07,4.2341140837898195e-07,3.96912853473097e-07,3.7206630332242696e-07,3.487696690340769e-07],\"type\":\"scatter\",\"xaxis\":\"x\",\"yaxis\":\"y2\"},{\"mode\":\"lines\",\"name\":\"estimation error (h=2.0)\",\"x\":[1,2,3,4,5,6,7,8,9,10,11,12,13,14,15,16,17,18,19,20,21,22,23,24,25,26,27,28,29,30,31,32,33,34,35,36,37,38,39,40,41,42,43,44,45,46,47,48,49,50,51,52,53,54,55,56,57,58,59,60,61,62,63,64,65,66,67,68,69,70,71,72,73,74,75,76,77,78,79,80,81,82,83,84,85,86,87,88,89,90,91,92,93,94,95,96,97,98,99,100,101,102,103,104,105,106,107,108,109,110,111,112,113,114,115,116,117,118,119,120,121,122,123,124,125,126,127,128,129,130,131,132,133,134,135,136,137,138,139,140,141,142,143,144,145,146,147,148,149,150,151,152,153,154,155,156,157,158,159,160,161,162,163,164,165,166,167,168,169,170,171,172,173,174,175,176,177,178,179,180,181,182,183,184,185,186,187,188,189,190,191,192,193,194,195,196,197,198,199,200,201,202,203,204,205,206,207,208,209,210,211,212,213,214,215,216,217,218,219,220,221,222,223,224,225,226,227,228,229,230,231,232,233,234,235,236,237,238,239,240,241,242,243,244,245,246,247,248,249],\"y\":[null,-2.9435820771600386e-39,-2.492521733649763e-34,-1.4771384425341147e-30,-1.5195092380741969e-27,-4.568131442907831e-25,-5.550219886089222e-23,-3.3747853136477756e-21,-1.1897819243352557e-19,-2.70154568160643e-18,-4.269424063049297e-17,-4.981745762943889e-16,-4.494670171061253e-15,-3.25341400381563e-14,-1.9468438063001487e-13,-9.87201653465496e-13,-4.33015055197814e-12,-1.6716082395308104e-11,-5.763165416110243e-11,-1.7968208195347682e-10,-5.120537180003453e-10,-1.346180876272405e-09,-3.291126574743047e-09,-7.534716007698057e-09,-1.6252481293300524e-08,-3.320710334715152e-08,-6.457356704189536e-08,-1.2000794208668734e-07,-2.1395047912090974e-07,-3.671185022997294e-07,-6.081052627374315e-07,-9.749627865904416e-07,-1.5166156623199026e-06,-2.2939340772164415e-06,-3.3802922737395037e-06,-4.861454937132189e-06,-6.834668459530651e-06,-9.406883863363126e-06,-1.2692098835436573e-05,-1.6807872022868848e-05,-2.1871127220930047e-05,-2.7993422396728842e-05,-3.5275903651167326e-05,-4.38041936482173e-05,-5.364347581301261e-05,-6.483402948717306e-05,-7.738744852678076e-05,-9.128373908140561e-05,-0.00010646944492209492,-0.00012285689458983381,-0.0001403246078103453,-0.0001587188428356437,-0.00017785621490347577,-0.00019752727146449787,-0.00021750087408731016,-0.00023752921108614877,-0.0002573532492913741,-0.00027670842771162357,-0.0002953303993107684,-0.00031296063852693026,-0.00032935175005801426,-0.00034427233721470024,-0.0003575113141816577,-0.00036888157435836094,-0.0003782229550135241,-0.0003854044658418987,-0.00039032577434335025,-0.000392917963797923,-0.00039314359931608145,-0.0003909961535870088,-0.0003864988567601757,-0.00037970304390100296,-0.00037068607933177233,-0.00035954893990763903,-0.00034641353918857254,-0.00033141987213919366,-0.0003147230557368208,-0.00029649033500822597,-0.0002768981170758744,-0.00025612908822719715,-0.00023436946079119503,-0.000211806388487501,-0.0001886255808278836,-0.000165009139373673,-0.00014113363139944823,-0.00011716840993136746,-9.32741830652617e-05,-6.960183040294332e-05,-4.629145983597871e-05,-2.347169433236651e-05,-1.2591753598689692e-06,2.0241732737458218e-05,4.0939054662680885e-05,6.0753150780745724e-05,7.961651736787534e-05,9.747345950461561e-05,0.00011427965540333762,0.00013000163037102386,0.0001446161577208782,0.00015810960299733612,0.000170477226611232,0.000181722458709066,0.0001918561588695189,0.00020089587160876388,0.00020886508762296696,0.0002157925190787724,0.00022171139618110125,0.00022665879091510188,0.00023067497277251547,0.0002338028002436543,0.00023608715075607023,0.00023757439115801304,0.00023831188968537198,0.00023834757003726725,0.00023772950737566134,0.00023650556557364144,0.00023472307475591592,0.00023242854764804477,0.00022966743306662707,0.00022648390463375634,0.00022292068270646226,0.00021901888726949537,0.0002148179195171629,0.00021035537003766258,0.00020566695103152455,0.00020078645056154087,0.00019574570657310275,0.00019057459854932013,0.0001853010547394618,0.0001799510731684828,0.0001745487545322666,0.0001691163451617017,0.00016367428877461787,0.00015824128526553682,0.00015283435526314282,0.00014746890942707314,0.00014215882102686095,0.00013691650117197973,0.00013175297549294918,0.00012667796165111156,0.00012169994701549669,0.00011682626567521837,0.00011206317455136894,0.00010741592798246824,0.00010288885036013884,9.848540665136074e-05,9.420827057293746e-05,9.005938990902518e-05,8.604004922041497e-05,8.215092965802029e-05,7.839216558591655e-05,7.476339846201885e-05,7.126382755462402e-05,6.789225758674355e-05,6.46471435367113e-05,6.152663245018175e-05,5.852860237776092e-05,5.565069859281291e-05,5.289036714017925e-05,5.0244885713479626e-05,4.771139218973097e-05,4.528691071858937e-05,4.2968375620899835e-05,4.075265315062193e-05,3.863656119951209e-05,3.6616887219453886e-05,3.4690404228099325e-05,3.285388527007882e-05,3.110411626605636e-05,2.9437907390517104e-05,2.785210319422582e-05,2.634359133479869e-05,2.490931032805843e-05,2.3546256102457974e-05,2.225148762491358e-05,2.1022131685421996e-05,1.9855386744760395e-05,1.8748526193435033e-05,1.769890078917591e-05,1.670394057040614e-05,1.576115623891372e-05,1.4868139954993254e-05,1.4022565775095863e-05,1.3222189670702988e-05,1.246484922057256e-05,1.1748462887317679e-05,1.1071029210718564e-05,1.0430625628887746e-05,9.825407081498483e-06,9.253604590253595e-06,8.71352354137045e-06,8.20354188935113e-06,7.722108343988232e-06,7.267740327887573e-06,6.839022031912556e-06,6.434602281113477e-06,6.053192473598479e-06,5.693564492093017e-06,5.354548524127978e-06,5.035031010014457e-06,4.733952476021486e-06,4.450305503778118e-06,4.183132622959107e-06,3.931524370393014e-06,3.6946172166096858e-06,3.471591666470708e-06,3.261670408649664e-06,3.0641163446532005e-06,2.8782309371422343e-06,2.7033523840591656e-06,2.5388538985593456e-06,2.3841421926684703e-06,2.2386557844145116e-06,2.1018635029124155e-06,1.973263090038202e-06,1.8523796750935517e-06,1.7387645049327105e-06,1.6319936383402123e-06,1.5316665935571905e-06,1.4374053056709357e-06,1.3488528579630454e-06,1.2656724087678484e-06,1.1875462172517004e-06,1.1141745304144024e-06,1.0452747083444791e-06,9.805803038442917e-07,9.198401286214519e-07,8.628175057756593e-07,8.092894656641647e-07,7.590459398798544e-07,7.118891492963186e-07,6.676328221377759e-07,6.261016184394563e-07,5.871305005511473e-07,5.505641627046032e-07,5.162564777894119e-07,4.840699593389175e-07,4.5387532887630755e-07,4.255509525874501e-07,3.9898251424919096e-07,3.7406246866655835e-07,3.506897754412819e-07,3.2876946753912506e-07,3.0821221663757115e-07,2.889342118894689e-07,2.7085660259107414e-07,2.539053447492279e-07,2.380109125343921e-07,2.231079678782777e-07],\"type\":\"scatter\",\"xaxis\":\"x\",\"yaxis\":\"y2\"},{\"mode\":\"lines\",\"name\":\"estimation error (h=1.5)\",\"x\":[1,2,3,4,5,6,7,8,9,10,11,12,13,14,15,16,17,18,19,20,21,22,23,24,25,26,27,28,29,30,31,32,33,34,35,36,37,38,39,40,41,42,43,44,45,46,47,48,49,50,51,52,53,54,55,56,57,58,59,60,61,62,63,64,65,66,67,68,69,70,71,72,73,74,75,76,77,78,79,80,81,82,83,84,85,86,87,88,89,90,91,92,93,94,95,96,97,98,99,100,101,102,103,104,105,106,107,108,109,110,111,112,113,114,115,116,117,118,119,120,121,122,123,124,125,126,127,128,129,130,131,132,133,134,135,136,137,138,139,140,141,142,143,144,145,146,147,148,149,150,151,152,153,154,155,156,157,158,159,160,161,162,163,164,165,166,167,168,169,170,171,172,173,174,175,176,177,178,179,180,181,182,183,184,185,186,187,188,189,190,191,192,193,194,195,196,197,198,199,200,201,202,203,204,205,206,207,208,209,210,211,212,213,214,215,216,217,218,219,220,221,222,223,224,225,226,227,228,229,230,231,232,233,234,235,236,237,238,239,240,241,242,243,244,245,246,247,248,249],\"y\":[null,-3.030043996232068e-42,-1.7276210198299865e-36,-3.32845103259001e-32,-7.563457315926132e-29,-3.996910866815703e-26,-7.36864814302392e-24,-6.140853440978894e-22,-2.7550484560216903e-20,-7.529287404425911e-19,-1.3728238035896031e-17,-1.7895600523893587e-16,-1.760103716876341e-15,-1.3631596802409138e-14,-8.604190524822866e-14,-4.551984491025211e-13,-2.0655801492861975e-12,-8.195275025225005e-12,-2.8889871195881112e-11,-9.172393417569585e-11,-2.653304747874584e-10,-7.06234738107869e-10,-1.7444660224198258e-09,-4.028339325195692e-09,-8.752331200690101e-09,-1.799246566028689e-08,-3.5169514501717256e-08,-6.565058986724075e-08,-1.1748429823821303e-07,-2.0224462605663457e-07,-3.359363448975006e-07,-5.398929806279725e-07,-8.41580630485687e-07,-1.2752102266480341e-06,-1.8820595415197045e-06,-2.7104154413297744e-06,-3.815066398838437e-06,-5.256303539138017e-06,-7.098422909397042e-06,-9.407758932252614e-06,-1.2250315568953618e-05,-1.568909420621449e-05,-1.9781242859548734e-05,-2.457516793388792e-05,-3.010775641374753e-05,-3.640185285164101e-05,-4.346412262447156e-05,-5.128341208738814e-05,-5.982968941285532e-05,-6.905361927597806e-05,-7.888679239454344e-05,-8.924259939229601e-05,-0.00010001770936777718,-0.00011109408841472254,-0.00012234147317126236,-0.0001336201999200537,-0.00014478428097592158,-0.00015568461696472205,-0.00016617223558961988,-0.00017610145398844548,-0.00018533287192305792,-0.00019373611592756607,-0.00020119226928779627,-0.00020759593840816853,-0.00021285692202289291,-0.00021690146508771685,-0.00021967309349731068,-0.00022113303869571166,-0.00022126027224785016,-0.0002200511796445065,-0.00021751890970894694,-0.00021369244110854002,-0.00020861541078640022,-0.0002023447504448661,-0.00019494917749848795,-0.00018650758523258704,-0.00017710737471962612,-0.0001668427676383144,-0.00015581313518675532,-0.00014412137418035043,-0.00013187235645464868,-0.00011917147355339219,-0.00010612329366943563,-9.283034380630495e-05,-7.939202575862891e-05,-6.590367099895689e-05,-5.2455736047285484e-05,-3.913313703107768e-05,-2.601471965546498e-05,-1.3172858670473797e-05,-6.731793407710462e-07,1.1425607999937526e-05,2.3071770001104053e-05,3.42205193317735e-05,4.483390136916787e-05,5.488060928066085e-05,6.433573807085313e-05,7.318048782611886e-05,8.140182589966294e-05,8.899211733415235e-05,9.594873186724584e-05,0.0001022736354933107,0.00010797297341402778,0.00011305665084293537,0.00011753791700352956,0.0001214329571659345,0.00012476049662901723,0.00012754142012649794,0.00012979840920257502,0.0001315555998400164,0.00013283826164955936,0.0001336725000186112,0.00013408498152345238,0.0001341026831214176,0.00013375266494242144,0.00013306186626060867,0.00013205692425932725,0.0001307640144306843,0.00012920871212884766,0.00012741587376818853,0.00012540953678474853,0.00012321283695981844,0.00012084794200173388,0.00011833599990629384,0.00011569710104364361,0.00011295025243862611,0.00011011336336208544,0.00010720324064072972,0.00010423559288919026,0.0001012250423446659,9.818514351012109e-05,9.512840740832917e-05,9.206633074509973e-05,8.900942899048303e-05,8.596727286525052e-05,8.294852723811363e-05,7.996099216744934e-05,7.701164509543723e-05,7.410668412588528e-05,7.125157161580464e-05,6.845107790054428e-05,6.570932470062463e-05,6.302982781736244e-05,6.041553924951426e-05,5.786888797576495e-05,5.539181973968077e-05,5.2985835238716916e-05,5.065202703447014e-05,4.83911147496352e-05,4.6203478730411085e-05,4.408919192377958e-05,4.204805015073365e-05,4.0079600647779934e-05,3.818316884740547e-05,3.635788366340709e-05,3.460270084687522e-05,3.291642504710257e-05,3.129773008825332e-05,2.9745177815954094e-05,2.825723557142723e-05,2.683229208277904e-05,2.546867228458982e-05,2.4164650658020648e-05,2.2918463494892016e-05,2.1728320003022716e-05,2.059241232277298e-05,1.9508924545830197e-05,1.847604090310373e-05,1.7491952886139472e-05,1.6554865779783157e-05,1.5663004152122184e-05,1.4814616970615369e-05,1.4007981779418088e-05,1.3241408570729973e-05,1.2513242740652686e-05,1.1821867940464692e-05,1.1165708125426832e-05,1.0543229464587967e-05,9.952941681823368e-06,9.393399070800612e-06,8.863201411690724e-06,8.360994219525075e-06,7.885469199608863e-06,7.435364068331118e-06,7.009462503981823e-06,6.606593693225804e-06,6.2256318745790296e-06,5.865495645851482e-06,5.525147281693066e-06,5.203591770919225e-06,4.8998760114882245e-06,4.613087673965843e-06,4.342354249620151e-06,4.086841919770379e-06,3.845754360853881e-06,3.6183316629578854e-06,3.4038490717147596e-06,3.2016159009495837e-06,3.010974220063467e-06,2.8312977489175495e-06,2.661990641916745e-06,2.502486315503205e-06,2.3522463264979976e-06,2.210759168952414e-06,2.0775392286509486e-06,1.952125615378719e-06,1.8340811606121221e-06,1.7229913783500805e-06,1.6184633876425991e-06,1.5201250368468422e-06,1.4276238347044057e-06,1.3406261256676544e-06,1.25881615098411e-06,1.1818952045938858e-06,1.1095808419847586e-06,1.041606002338824e-06,9.777183407333467e-07,9.17679408019012e-07,8.612640595151433e-07,8.082596302250167e-07,7.584654496683996e-07,7.116920852645592e-07,6.677608481719943e-07,6.265031776697683e-07,5.877601393367016e-07,5.513818907010304e-07,5.172271954068108e-07,4.851629344937436e-07,4.550637372480182e-07,4.268114901506692e-07,4.002949570702796e-07,3.7540940334146455e-07,3.520562181780207e-07,3.3014260947261675e-07,3.0958123720115083e-07,2.9028991854751496e-07,2.7219138298839596e-07,2.5521287350116495e-07,2.392860539712771e-07,2.2434655222447475e-07,2.103340055459313e-07,1.9719154087383117e-07,1.848657649183849e-07,1.7330646018276497e-07,1.624664488497629e-07,1.5230143635136528e-07,1.4276977233773636e-07,1.3383236108222007e-07,1.2545246874662297e-07],\"type\":\"scatter\",\"xaxis\":\"x\",\"yaxis\":\"y2\"},{\"mode\":\"lines\",\"name\":\"estimation error (h=1)\",\"x\":[1,2,3,4,5,6,7,8,9,10,11,12,13,14,15,16,17,18,19,20,21,22,23,24,25,26,27,28,29,30,31,32,33,34,35,36,37,38,39,40,41,42,43,44,45,46,47,48,49,50,51,52,53,54,55,56,57,58,59,60,61,62,63,64,65,66,67,68,69,70,71,72,73,74,75,76,77,78,79,80,81,82,83,84,85,86,87,88,89,90,91,92,93,94,95,96,97,98,99,100,101,102,103,104,105,106,107,108,109,110,111,112,113,114,115,116,117,118,119,120,121,122,123,124,125,126,127,128,129,130,131,132,133,134,135,136,137,138,139,140,141,142,143,144,145,146,147,148,149,150,151,152,153,154,155,156,157,158,159,160,161,162,163,164,165,166,167,168,169,170,171,172,173,174,175,176,177,178,179,180,181,182,183,184,185,186,187,188,189,190,191,192,193,194,195,196,197,198,199,200,201,202,203,204,205,206,207,208,209,210,211,212,213,214,215,216,217,218,219,220,221,222,223,224,225,226,227,228,229,230,231,232,233,234,235,236,237,238,239,240,241,242,243,244,245,246,247,248,249],\"y\":[-1.9033628802575774e-56,-8.16828151810995e-46,-5.887133023950343e-39,-4.983494772653537e-34,-2.9444893377085466e-30,-2.993532273771661e-27,-8.756989853647669e-25,-1.0155604399333531e-22,-5.784444981687134e-21,-1.8812445564651657e-19,-3.899169922098486e-18,-5.592424981569333e-17,-5.911647584335465e-16,-4.837728154697857e-15,-3.186389123587404e-14,-1.7427938341964657e-13,-8.119060353984047e-13,-3.289527549089293e-12,-1.1793501582294158e-11,-3.795980422197537e-11,-1.1104193567072726e-10,-2.982963136316186e-10,-7.424611297689397e-10,-1.7254291358519732e-09,-3.768832165763522e-09,-7.782518570116896e-09,-1.5270106915862915e-08,-2.8596478972390714e-08,-5.131519627942823e-08,-8.854487380723968e-08,-1.473735109200149e-07,-2.372600212370828e-07,-3.703942217251508e-07,-5.619717269208375e-07,-8.303395828412953e-07,-1.1969725754358026e-06,-1.686248860287836e-06,-2.3250061955563316e-06,-3.1418754494438297e-06,-4.166404717822542e-06,-5.428003734353297e-06,-6.954752773861788e-06,-8.77213167491727e-06,-1.0901732036183525e-05,-1.336001859318951e-05,-1.61572042014261e-05,-1.9296297079450693e-05,-2.2772369648502676e-05,-2.6572086312887707e-05,-3.067351384928793e-05,-3.50462237261916e-05,-3.965168160068727e-05,-4.444390627525614e-05,-4.937036919597758e-05,-5.437309659088278e-05,-5.9389929871617175e-05,-6.435589603067532e-05,-6.920463837400276e-05,-7.386985884181435e-05,-7.828672608728784e-05,-8.239320800714628e-05,-8.613129317616014e-05,-8.944807221578088e-05,-9.229665709768048e-05,-9.463692353237074e-05,-9.643606833986684e-05,-9.766898019032688e-05,-9.831842775742672e-05,-9.837507424492742e-05,-9.783733141704998e-05,-9.67110692673967e-05,-9.50091999054603e-05,-9.275115556439673e-05,-8.996228128810291e-05,-8.667316298444083e-05,-8.29189108165207e-05,-7.873841670252846e-05,-7.417360344152968e-05,-6.926868121726049e-05,-6.406942508679903e-05,-5.862248524307612e-05,-5.297473971555e-05,-4.7172697114072903e-05,-4.126195511933162e-05,-3.528671857910837e-05,-2.928937937662912e-05,-2.3310158877798415e-05,-1.7386812281250386e-05,-1.1554393232360294e-05,-5.845076006538719e-06,-2.880319328601999e-07,5.090643818872476e-06,1.0267959534127069e-05,1.5224012918257923e-05,1.9941940423984228e-05,2.440783476653774e-05,2.8610635333436996e-05,3.2541996015322816e-05,3.619613483596407e-05,3.956966941276452e-05,4.2661442105518255e-05,4.547233830343167e-05,4.8005100861892025e-05,5.026414367514942e-05,5.225536663233665e-05,5.398597419248308e-05,5.5464299294039066e-05,5.669963411880641e-05,5.7702068880782775e-05,5.8482339573617814e-05,5.9051685446398494e-05,5.942171649042649e-05,5.960429148843538e-05,5.961140652666064e-05,5.945509397875526e-05,5.9147331906150846e-05,5.869996346197226e-05,5.812462604781743e-05,5.743268978841698e-05,5.6635204778832104e-05,5.574285657816702e-05,5.476592958464366e-05,5.371427759515157e-05,5.25973007452496e-05,5.142392877299784e-05,5.020260968757739e-05,4.894130326915658e-05,4.764747906915723e-05,4.632811839488937e-05,4.498971951660824e-05,4.363830592113427e-05,4.227943730150674e-05,4.0918222371177926e-05,3.9559333632088745e-05,3.820702368628748e-05,3.6865142442832344e-05,3.5537155407716625e-05,3.4226162447081876e-05,3.2934917081339776e-05,3.166584584768373e-05,3.042106762718433e-05,2.920241310677696e-05,2.80114437422041e-05,2.6849470356249405e-05,2.5717571432104513e-05,2.4616610682426376e-05,2.3547253983013938e-05,2.2509985993290904e-05,2.150512566778673e-05,2.0532841056741802e-05,1.959316378685738e-05,1.8686002338008656e-05,1.7811154692459752e-05,1.6968320395216452e-05,1.615711162872291e-05,1.5377063650845457e-05,1.4627644632225767e-05,1.3908264656747882e-05,1.3218284042437745e-05,1.2557021175862992e-05,1.1923759545728885e-05,1.1317754281536807e-05,1.0738238135798994e-05,1.0184426942561053e-05,9.655524546348104e-06,9.150727153128813e-06,8.669227484103814e-06,8.21021834074287e-06,7.772895772695243e-06,7.356461946828041e-06,6.96012763845566e-06,6.583114531499845e-06,6.224656979969545e-06,5.884003730693976e-06,5.5604193782698985e-06,5.253185465514676e-06,4.961601506758839e-06,4.684985713709899e-06,4.422675734749859e-06,4.174029058501283e-06,3.9384232702888156e-06,3.715256406744416e-06,3.5039470204223377e-06,3.303934095644223e-06,3.1146770036460936e-06,2.9356554754889075e-06,2.7663691648527333e-06,2.6063374284346352e-06,2.455099122888882e-06,2.312212048605211e-06,2.17725259288315e-06,2.049815344129513e-06,1.929512532972133e-06,1.815973616925426e-06,1.7088446965241033e-06,1.6077880758968988e-06,1.5124816795664131e-06,1.4226185165444605e-06,1.3379062591134527e-06,1.2580666012285135e-06,1.1828347508124892e-06,1.1119588948504955e-06,1.0451997689564507e-06,9.823300629596687e-07,9.231340030169122e-07,8.674067738523306e-07,8.149540537960576e-07,7.655917313442728e-07,7.191452020549605e-07,6.754490419202952e-07,6.343466728564451e-07,5.956897842773756e-07,5.593380861812491e-07,5.251588693910847e-07,4.930265486979835e-07,4.628225053204815e-07,4.344346128393184e-07,4.0775689080785327e-07,3.826893211211768e-07,3.5913736673443e-07,3.3701186474832667e-07,3.1622869223202343e-07,2.967083710947449e-07,2.7837602800673267e-07,2.61161063219717e-07,2.4499687678591897e-07,2.298207234519012e-07,2.1557342344546981e-07,2.0219925112030523e-07,1.8964579684421778e-07,1.7786358952331938e-07,1.668060785053882e-07,1.5642945949689846e-07,1.4669250691934366e-07,1.3755640138057856e-07,1.2898462409260958e-07,1.2094284518315845e-07,1.1339873262627975e-07,1.0632193603310469e-07,9.968385195069374e-08,9.345764573343018e-08,8.761802083867565e-08,8.214125635230829e-08,7.700513471320392e-08,7.218856468149681e-08,6.76719121850411e-08,6.343673319975096e-08,5.946558467861962e-08,5.5742134685843325e-08],\"type\":\"scatter\",\"xaxis\":\"x\",\"yaxis\":\"y2\"},{\"mode\":\"lines\",\"name\":\"estimation error (h=0.5)\",\"x\":[1,2,3,4,5,6,7,8,9,10,11,12,13,14,15,16,17,18,19,20,21,22,23,24,25,26,27,28,29,30,31,32,33,34,35,36,37,38,39,40,41,42,43,44,45,46,47,48,49,50,51,52,53,54,55,56,57,58,59,60,61,62,63,64,65,66,67,68,69,70,71,72,73,74,75,76,77,78,79,80,81,82,83,84,85,86,87,88,89,90,91,92,93,94,95,96,97,98,99,100,101,102,103,104,105,106,107,108,109,110,111,112,113,114,115,116,117,118,119,120,121,122,123,124,125,126,127,128,129,130,131,132,133,134,135,136,137,138,139,140,141,142,143,144,145,146,147,148,149,150,151,152,153,154,155,156,157,158,159,160,161,162,163,164,165,166,167,168,169,170,171,172,173,174,175,176,177,178,179,180,181,182,183,184,185,186,187,188,189,190,191,192,193,194,195,196,197,198,199,200,201,202,203,204,205,206,207,208,209,210,211,212,213,214,215,216,217,218,219,220,221,222,223,224,225,226,227,228,229,230,231,232,233,234,235,236,237,238,239,240,241,242,243,244,245,246,247,248,249],\"y\":[-2.235513862536609e-64,-3.7341711803397058e-50,-9.059001581619863e-42,-5.027984536706241e-36,-9.006096151155501e-32,-1.8132794946103207e-28,-8.180154926658673e-26,-1.2578601355680362e-23,-8.653456827656693e-22,-3.204315621998813e-20,-7.277407232923332e-19,-1.1148823238529684e-17,-1.237062275218527e-16,-1.0497681622596834e-15,-7.108091935440864e-15,-3.971620596130012e-14,-1.8813766911410902e-13,-7.723924013358424e-13,-2.7985378323014113e-12,-9.084706802865895e-12,-2.6759831237988062e-11,-7.229556817442496e-11,-1.8079012780605037e-10,-4.217846712765019e-10,-9.243044566408781e-10,-1.913889593520745e-09,-3.7639353180224465e-09,-7.062582052325468e-09,-1.2694671253290744e-08,-2.1936035946833665e-08,-3.6554873569763794e-08,-5.891249474536378e-08,-9.205373303307338e-08,-1.3977608719674044e-07,-2.0666650984785332e-07,-2.9809578239215243e-07,-4.2016260061407737e-07,-5.795826654399265e-07,-7.835219343654604e-07,-1.039377370891495e-06,-1.354512629560343e-06,-1.735959756233251e-06,-2.1901008486627585e-06,-2.7223454814607464e-06,-3.3368204432125508e-06,-4.036087928153487e-06,-4.820906881850863e-06,-5.6900498597778e-06,-6.640184750062502e-06,-7.665827282326426e-06,-8.759366654957808e-06,-9.911163075630725e-06,-1.1109712776459849e-05,-1.2341873240956022e-05,-1.3593139163893195e-05,-1.4847958001912298e-05,-1.609007304361615e-05,-1.7302881545104565e-05,-1.8469795754684493e-05,-1.9574595308827908e-05,-2.0601760696924154e-05,-2.153677891083422e-05,-2.2366413968466503e-05,-2.3078936894606328e-05,-2.3664311392862514e-05,-2.4114333191715964e-05,-2.442272271747925e-05,-2.458517199332988e-05,-2.459934821574805e-05,-2.446485707680024e-05,-2.418316997926384e-05,-2.3757519872935617e-05,-2.3192770503221993e-05,-2.2495264513033852e-05,-2.1672655051874212e-05,-2.0733726658062057e-05,-1.968820939640681e-05,-1.8546590888846026e-05,-1.7319930532999628e-05,-1.601967851500019e-05,-1.4657503498993751e-05,-1.3245130569883301e-05,-1.1794191973502066e-05,-1.0316091644035907e-05,-8.821884747156616e-06,-7.322172581702979e-06,-5.827013262127423e-06,-4.345847825382165e-06,-2.88744130999552e-06,-1.4598384467934267e-06,-7.033275506440617e-08,1.2745517116719007e-06,2.569067169611028e-06,3.8082385337978586e-06,4.987850688586981e-06,6.104427834219273e-06,7.155206067310793e-06,8.138100286214645e-06,9.051666552184479e-06,9.895060846809578e-06,1.0667995550384113e-05,1.1370693698387058e-05,1.2003842780550222e-05,1.2568548002689361e-05,1.306628602237847e-05,1.3498859607108393e-05,1.386835363725858e-05,1.417709259177169e-05,1.442760049519265e-05,1.4622562668153982e-05,1.4764790196686306e-05,1.4857186635630626e-05,1.490271784221342e-05,1.4904383738856275e-05,1.4865193175950253e-05,1.4788141594057613e-05,1.4676190305262793e-05,1.4532249320797774e-05,1.4359161620181027e-05,1.4159690139070591e-05,1.393650664427426e-05,1.3692182521563012e-05,1.3429181347834884e-05,1.3149853431260183e-05,1.2856431232499688e-05,1.2551026836948864e-05,1.2235630165502442e-05,1.1912108694334123e-05,1.1582207627647279e-05,1.1247551452542304e-05,1.0909645932755119e-05,1.0569880898647632e-05,1.0229533362493548e-05,9.88977135840674e-06,9.551657776829536e-06,9.216155009039717e-06,8.88412916832948e-06,8.556355161060125e-06,8.233521102019026e-06,7.916233423443941e-06,7.605021728362971e-06,7.300343473293225e-06,7.002588919280406e-06,6.712085419802172e-06,6.429102618832339e-06,6.153856206947417e-06,5.886512505770547e-06,5.627192533164127e-06,5.375975897337071e-06,5.132904427718188e-06,4.897986004670507e-06,4.6711975617563795e-06,4.452488441053504e-06,4.241783564618018e-06,4.038985684240437e-06,3.843978714002105e-06,3.6566295029683005e-06,3.4767904762977864e-06,3.304301774420537e-06,3.13899274939633e-06,2.9806843515611803e-06,2.8291902254284906e-06,2.6843185210179143e-06,2.5458732099137293e-06,2.413655134647641e-06,2.2874633611724704e-06,2.167096064153995e-06,2.0523512498371588e-06,1.9430281120724757e-06,1.8389270520779988e-06,1.7398508054267126e-06,1.6456046887380893e-06,1.5559973663981097e-06,1.4708408893060465e-06,1.389951609809259e-06,1.313149669224245e-06,1.2402600566563393e-06,1.1711123401036971e-06,1.1055408515314724e-06,1.043385047805323e-06,9.844891774024589e-07,9.287029973936711e-07,8.758808646147642e-07,8.258826889040449e-07,7.785733340259782e-07,7.338226190034547e-07,6.915055204004261e-07,6.515019669306454e-07,6.136964800784739e-07,5.779787121129587e-07,5.442426558310842e-07,5.123869764034339e-07,4.82314736705014e-07,4.5393330883047867e-07,4.271542876077561e-07,4.0189311512062176e-07,3.7806939989781796e-07,3.55606345481263e-07,3.344309118524791e-07,3.144734722626552e-07,2.956678526455647e-07,2.779511448780525e-07,2.612634610876796e-07,2.455480853091885e-07,2.3075099164771018e-07,2.16821012588575e-07,2.0370956588244837e-07,1.9137059137364076e-07,1.7976054422774723e-07,1.6883792619548643e-07,1.5856374691036734e-07,1.4890086019736515e-07,1.3981414348496202e-07,1.3127053410944e-07,1.2323856535267907e-07,1.1568862101629662e-07,1.0859263188667256e-07,1.019241556710071e-07,9.565809389044944e-08,8.97709993008533e-08,8.424037212240165e-08,7.904532062230629e-08,7.416598124532214e-08,6.958352827268754e-08,6.52803968659299e-08,6.123998086415838e-08,5.744647346705989e-08,5.388517487769917e-08,5.0542118046337237e-08,4.7404207670354026e-08,4.4459105619232275e-08,4.169513467822128e-08,3.910137447160622e-08,3.666749381903145e-08,3.4383819791372616e-08,3.22412037068176e-08,3.023102312926795e-08,2.8345360281178955e-08,2.6576360556695988e-08,2.491712047802963e-08,2.3360729017873894e-08,2.1901102709165343e-08,2.053214209762899e-08,1.9248270533012146e-08,1.8044355565294268e-08,1.6915343459267262e-08,1.5856702617611518e-08,1.4864078190512942e-08,1.3933345366368144e-08],\"type\":\"scatter\",\"xaxis\":\"x\",\"yaxis\":\"y2\"},{\"mode\":\"lines\",\"name\":\"estimation error (h=0.1)\",\"x\":[1,2,3,4,5,6,7,8,9,10,11,12,13,14,15,16,17,18,19,20,21,22,23,24,25,26,27,28,29,30,31,32,33,34,35,36,37,38,39,40,41,42,43,44,45,46,47,48,49,50,51,52,53,54,55,56,57,58,59,60,61,62,63,64,65,66,67,68,69,70,71,72,73,74,75,76,77,78,79,80,81,82,83,84,85,86,87,88,89,90,91,92,93,94,95,96,97,98,99,100,101,102,103,104,105,106,107,108,109,110,111,112,113,114,115,116,117,118,119,120,121,122,123,124,125,126,127,128,129,130,131,132,133,134,135,136,137,138,139,140,141,142,143,144,145,146,147,148,149,150,151,152,153,154,155,156,157,158,159,160,161,162,163,164,165,166,167,168,169,170,171,172,173,174,175,176,177,178,179,180,181,182,183,184,185,186,187,188,189,190,191,192,193,194,195,196,197,198,199,200,201,202,203,204,205,206,207,208,209,210,211,212,213,214,215,216,217,218,219,220,221,222,223,224,225,226,227,228,229,230,231,232,233,234,235,236,237,238,239,240,241,242,243,244,245,246,247,248,249],\"y\":[-3.3779833193224866e-73,-2.940556368341874e-54,-2.0489587207496264e-44,-4.446474771401747e-38,-1.505172227565735e-33,-4.2123603544455734e-30,-2.2867073202623375e-27,-3.929967848790911e-25,-2.9012004160919186e-23,-1.1256724727896284e-21,-2.6398656695900007e-20,-4.1370034374486637e-19,-4.666532628346652e-18,-4.008592860959338e-17,-2.7393635145501424e-16,-1.5414582351356706e-15,-7.3422061920906e-15,-3.027396900876102e-14,-1.1006791460756104e-13,-3.582992615589748e-13,-1.0577838341119342e-12,-2.863030653013374e-12,-7.1704940944931586e-12,-1.6749922882314592e-11,-3.674465624859292e-11,-7.615171253774582e-11,-1.4987477634696674e-10,-2.814000097304989e-10,-5.06075585257996e-10,-8.748858310345257e-10,-1.458509861421131e-09,-2.3513562304500437e-09,-3.6751846046538777e-09,-5.581876840234982e-09,-8.254913394995834e-09,-1.1909152156197957e-08,-1.6788594117999646e-08,-2.3161947566112113e-08,-3.131595639323747e-08,-4.154662645993877e-08,-5.4148647447578146e-08,-6.940345527743554e-08,-8.756648896702385e-08,-1.0885428146486988e-07,-1.33432039090952e-07,-1.6140236669772746e-07,-1.92795709356465e-07,-2.275630259290437e-07,-2.655710540483934e-07,-3.066004135125755e-07,-3.5034662291145297e-07,-3.964240098339178e-07,-4.443723181663667e-07,-4.936657157558061e-07,-5.43723828806339e-07,-5.939243995778387e-07,-6.436169970522321e-07,-6.921373045740142e-07,-7.388216794815272e-07,-7.830211185590186e-07,-8.24114707552448e-07,-8.615218060267771e-07,-8.947128460334852e-07,-9.232185732913067e-07,-9.466375067990196e-07,-9.646413939856657e-07,-9.769790296348946e-07,-9.834781424800099e-07,-9.840453087939238e-07,-9.786650012055809e-07,-9.673959223133188e-07,-9.503676048350229e-07,-9.277745931512982e-07,-8.998706469975915e-07,-8.66962139356442e-07,-8.294002807329726e-07,-7.87574575611405e-07,-7.41904432999263e-07,-6.9283256609598e-07,-6.408168943816683e-07,-5.863241412940035e-07,-5.298237713002862e-07,-4.7178073026010736e-07,-4.126513326596637e-07,-3.5287792510274585e-07,-2.9288468150756586e-07,-2.3307383134607562e-07,-1.7382297001766744e-07,-1.1548281081408263e-07,-5.8375199118998466e-08,-2.7918843903407264e-09,5.100634353771838e-08,1.0278932099927474e-07,1.5235823486170474e-07,1.995443256186391e-07,2.44208772204324e-07,2.862408449155751e-07,3.255573536309342e-07,3.6210040821327283e-07,3.9583633582029876e-07,4.267535412827428e-07,4.54861193821543e-07,4.801866250181419e-07,5.027741080132486e-07,5.22682803150154e-07,5.399847308185102e-07,5.547633927793783e-07,5.671116379835084e-07,5.771306468282944e-07,5.8492784116293e-07,5.906156586021893e-07,5.943099532501606e-07,5.961297573353619e-07,5.961950569899344e-07,5.946259697964251e-07,5.91542469341455e-07,5.870630288562495e-07,5.813040186986029e-07,5.743792805823489e-07,5.663990383375506e-07,5.574704116106943e-07,5.476961475459063e-07,5.371751936600333e-07,5.260010038643514e-07,5.142629424526035e-07,5.020459448168424e-07,4.894291971702103e-07,4.764874337315206e-07,4.6329054104177203e-07,4.499036491134589e-07,4.363866951129225e-07,4.2279552225910066e-07,4.091811155459979e-07,3.9559015896362126e-07,3.8206500463378035e-07,3.686446793382814e-07,3.553633360908748e-07,3.4225185774339195e-07,3.2933830751424864e-07,3.166465294413001e-07,3.041977190143541e-07,2.920104873460616e-07,2.8010021313473743e-07,2.6847976364319237e-07,2.571604437173747e-07,2.4615043703324346e-07,2.3545669047830842e-07,2.2508386343655928e-07,2.1503525182708927e-07,2.0531221256447907e-07,1.9591560584952816e-07,1.8684416469572085e-07,1.7809577546046285e-07,1.696676223961191e-07,1.615557515544097e-07,1.5375551853935576e-07,1.4626174116294521e-07,1.3906802942553753e-07,1.3216864047649324e-07,1.255564364699424e-07,1.192241201319888e-07,1.1316442116715564e-07,1.0736971911562421e-07,1.0183210885639227e-07,9.654334154340916e-08,9.149573654276821e-08,8.668124773514307e-08,8.209158952610096e-08,7.771864074523904e-08,7.355483389037687e-08,6.959170995024522e-08,6.582202671800985e-08,6.22379675574436e-08,5.8831592264496635e-08,5.559609306260427e-08,5.2524258942199253e-08,4.9608568142289755e-08,4.684279508726519e-08,4.421987909175584e-08,4.173389112072101e-08,3.9378222571606614e-08,3.714672858201595e-08,3.503392764780955e-08,3.303400797349809e-08,3.1141820011626464e-08,2.93518830352113e-08,2.7659070589436396e-08,2.605907301056476e-08,2.45468727566589e-08,2.3118234548924477e-08,2.1768815638978367e-08,2.0494668184767306e-08,1.929183668369916e-08,1.815659633752631e-08,1.7085295511698462e-08,1.607506028289407e-08,1.5122209373608086e-08,1.422358697489301e-08,1.337666732936782e-08,1.2578486807690581e-08,1.1826152279681423e-08,1.1117606502075716e-08,1.0450160292663213e-08,9.821724211711569e-09,9.229530917309603e-09,8.672449314239827e-09,8.148082430992076e-09,7.654594291750527e-09,7.190376294374801e-09,6.753251624580514e-09,6.342045000273799e-09,5.955876347663036e-09,5.592421747913079e-09,5.250635592979336e-09,4.929277652720998e-09,4.627281335878308e-09,4.343464365952343e-09,4.0768360909382295e-09,3.8261154244878526e-09,3.5905498574351213e-09,3.369566958788539e-09,3.1618433427027526e-09,2.9666432643793428e-09,2.7833166882373916e-09,2.6112381146248254e-09,2.449490166256396e-09,2.297727452749143e-09,2.1554041884641606e-09,2.0217409968381617e-09,1.896332868511763e-09,1.7783950978511598e-09,1.6681307446475557e-09,1.563913332169875e-09,1.4666950987063387e-09,1.3755001582183013e-09,1.289649498303902e-09,1.2093029910786868e-09,1.13381881661212e-09,1.0629309654675012e-09,9.966140135375667e-10,9.342949747193074e-10,8.75887362639105e-10,8.211181734552042e-10,7.69981411963272e-10,7.218636799422029e-10,6.76827149881376e-10,6.344045289097267e-10,5.946179104654448e-10,5.573783656842579e-10],\"type\":\"scatter\",\"xaxis\":\"x\",\"yaxis\":\"y2\"}],                        {\"template\":{\"data\":{\"barpolar\":[{\"marker\":{\"line\":{\"color\":\"rgb(17,17,17)\",\"width\":0.5},\"pattern\":{\"fillmode\":\"overlay\",\"size\":10,\"solidity\":0.2}},\"type\":\"barpolar\"}],\"bar\":[{\"error_x\":{\"color\":\"#f2f5fa\"},\"error_y\":{\"color\":\"#f2f5fa\"},\"marker\":{\"line\":{\"color\":\"rgb(17,17,17)\",\"width\":0.5},\"pattern\":{\"fillmode\":\"overlay\",\"size\":10,\"solidity\":0.2}},\"type\":\"bar\"}],\"carpet\":[{\"aaxis\":{\"endlinecolor\":\"#A2B1C6\",\"gridcolor\":\"#506784\",\"linecolor\":\"#506784\",\"minorgridcolor\":\"#506784\",\"startlinecolor\":\"#A2B1C6\"},\"baxis\":{\"endlinecolor\":\"#A2B1C6\",\"gridcolor\":\"#506784\",\"linecolor\":\"#506784\",\"minorgridcolor\":\"#506784\",\"startlinecolor\":\"#A2B1C6\"},\"type\":\"carpet\"}],\"choropleth\":[{\"colorbar\":{\"outlinewidth\":0,\"ticks\":\"\"},\"type\":\"choropleth\"}],\"contourcarpet\":[{\"colorbar\":{\"outlinewidth\":0,\"ticks\":\"\"},\"type\":\"contourcarpet\"}],\"contour\":[{\"colorbar\":{\"outlinewidth\":0,\"ticks\":\"\"},\"colorscale\":[[0.0,\"#0d0887\"],[0.1111111111111111,\"#46039f\"],[0.2222222222222222,\"#7201a8\"],[0.3333333333333333,\"#9c179e\"],[0.4444444444444444,\"#bd3786\"],[0.5555555555555556,\"#d8576b\"],[0.6666666666666666,\"#ed7953\"],[0.7777777777777778,\"#fb9f3a\"],[0.8888888888888888,\"#fdca26\"],[1.0,\"#f0f921\"]],\"type\":\"contour\"}],\"heatmapgl\":[{\"colorbar\":{\"outlinewidth\":0,\"ticks\":\"\"},\"colorscale\":[[0.0,\"#0d0887\"],[0.1111111111111111,\"#46039f\"],[0.2222222222222222,\"#7201a8\"],[0.3333333333333333,\"#9c179e\"],[0.4444444444444444,\"#bd3786\"],[0.5555555555555556,\"#d8576b\"],[0.6666666666666666,\"#ed7953\"],[0.7777777777777778,\"#fb9f3a\"],[0.8888888888888888,\"#fdca26\"],[1.0,\"#f0f921\"]],\"type\":\"heatmapgl\"}],\"heatmap\":[{\"colorbar\":{\"outlinewidth\":0,\"ticks\":\"\"},\"colorscale\":[[0.0,\"#0d0887\"],[0.1111111111111111,\"#46039f\"],[0.2222222222222222,\"#7201a8\"],[0.3333333333333333,\"#9c179e\"],[0.4444444444444444,\"#bd3786\"],[0.5555555555555556,\"#d8576b\"],[0.6666666666666666,\"#ed7953\"],[0.7777777777777778,\"#fb9f3a\"],[0.8888888888888888,\"#fdca26\"],[1.0,\"#f0f921\"]],\"type\":\"heatmap\"}],\"histogram2dcontour\":[{\"colorbar\":{\"outlinewidth\":0,\"ticks\":\"\"},\"colorscale\":[[0.0,\"#0d0887\"],[0.1111111111111111,\"#46039f\"],[0.2222222222222222,\"#7201a8\"],[0.3333333333333333,\"#9c179e\"],[0.4444444444444444,\"#bd3786\"],[0.5555555555555556,\"#d8576b\"],[0.6666666666666666,\"#ed7953\"],[0.7777777777777778,\"#fb9f3a\"],[0.8888888888888888,\"#fdca26\"],[1.0,\"#f0f921\"]],\"type\":\"histogram2dcontour\"}],\"histogram2d\":[{\"colorbar\":{\"outlinewidth\":0,\"ticks\":\"\"},\"colorscale\":[[0.0,\"#0d0887\"],[0.1111111111111111,\"#46039f\"],[0.2222222222222222,\"#7201a8\"],[0.3333333333333333,\"#9c179e\"],[0.4444444444444444,\"#bd3786\"],[0.5555555555555556,\"#d8576b\"],[0.6666666666666666,\"#ed7953\"],[0.7777777777777778,\"#fb9f3a\"],[0.8888888888888888,\"#fdca26\"],[1.0,\"#f0f921\"]],\"type\":\"histogram2d\"}],\"histogram\":[{\"marker\":{\"pattern\":{\"fillmode\":\"overlay\",\"size\":10,\"solidity\":0.2}},\"type\":\"histogram\"}],\"mesh3d\":[{\"colorbar\":{\"outlinewidth\":0,\"ticks\":\"\"},\"type\":\"mesh3d\"}],\"parcoords\":[{\"line\":{\"colorbar\":{\"outlinewidth\":0,\"ticks\":\"\"}},\"type\":\"parcoords\"}],\"pie\":[{\"automargin\":true,\"type\":\"pie\"}],\"scatter3d\":[{\"line\":{\"colorbar\":{\"outlinewidth\":0,\"ticks\":\"\"}},\"marker\":{\"colorbar\":{\"outlinewidth\":0,\"ticks\":\"\"}},\"type\":\"scatter3d\"}],\"scattercarpet\":[{\"marker\":{\"colorbar\":{\"outlinewidth\":0,\"ticks\":\"\"}},\"type\":\"scattercarpet\"}],\"scattergeo\":[{\"marker\":{\"colorbar\":{\"outlinewidth\":0,\"ticks\":\"\"}},\"type\":\"scattergeo\"}],\"scattergl\":[{\"marker\":{\"line\":{\"color\":\"#283442\"}},\"type\":\"scattergl\"}],\"scattermapbox\":[{\"marker\":{\"colorbar\":{\"outlinewidth\":0,\"ticks\":\"\"}},\"type\":\"scattermapbox\"}],\"scatterpolargl\":[{\"marker\":{\"colorbar\":{\"outlinewidth\":0,\"ticks\":\"\"}},\"type\":\"scatterpolargl\"}],\"scatterpolar\":[{\"marker\":{\"colorbar\":{\"outlinewidth\":0,\"ticks\":\"\"}},\"type\":\"scatterpolar\"}],\"scatter\":[{\"marker\":{\"line\":{\"color\":\"#283442\"}},\"type\":\"scatter\"}],\"scatterternary\":[{\"marker\":{\"colorbar\":{\"outlinewidth\":0,\"ticks\":\"\"}},\"type\":\"scatterternary\"}],\"surface\":[{\"colorbar\":{\"outlinewidth\":0,\"ticks\":\"\"},\"colorscale\":[[0.0,\"#0d0887\"],[0.1111111111111111,\"#46039f\"],[0.2222222222222222,\"#7201a8\"],[0.3333333333333333,\"#9c179e\"],[0.4444444444444444,\"#bd3786\"],[0.5555555555555556,\"#d8576b\"],[0.6666666666666666,\"#ed7953\"],[0.7777777777777778,\"#fb9f3a\"],[0.8888888888888888,\"#fdca26\"],[1.0,\"#f0f921\"]],\"type\":\"surface\"}],\"table\":[{\"cells\":{\"fill\":{\"color\":\"#506784\"},\"line\":{\"color\":\"rgb(17,17,17)\"}},\"header\":{\"fill\":{\"color\":\"#2a3f5f\"},\"line\":{\"color\":\"rgb(17,17,17)\"}},\"type\":\"table\"}]},\"layout\":{\"annotationdefaults\":{\"arrowcolor\":\"#f2f5fa\",\"arrowhead\":0,\"arrowwidth\":1},\"autotypenumbers\":\"strict\",\"coloraxis\":{\"colorbar\":{\"outlinewidth\":0,\"ticks\":\"\"}},\"colorscale\":{\"diverging\":[[0,\"#8e0152\"],[0.1,\"#c51b7d\"],[0.2,\"#de77ae\"],[0.3,\"#f1b6da\"],[0.4,\"#fde0ef\"],[0.5,\"#f7f7f7\"],[0.6,\"#e6f5d0\"],[0.7,\"#b8e186\"],[0.8,\"#7fbc41\"],[0.9,\"#4d9221\"],[1,\"#276419\"]],\"sequential\":[[0.0,\"#0d0887\"],[0.1111111111111111,\"#46039f\"],[0.2222222222222222,\"#7201a8\"],[0.3333333333333333,\"#9c179e\"],[0.4444444444444444,\"#bd3786\"],[0.5555555555555556,\"#d8576b\"],[0.6666666666666666,\"#ed7953\"],[0.7777777777777778,\"#fb9f3a\"],[0.8888888888888888,\"#fdca26\"],[1.0,\"#f0f921\"]],\"sequentialminus\":[[0.0,\"#0d0887\"],[0.1111111111111111,\"#46039f\"],[0.2222222222222222,\"#7201a8\"],[0.3333333333333333,\"#9c179e\"],[0.4444444444444444,\"#bd3786\"],[0.5555555555555556,\"#d8576b\"],[0.6666666666666666,\"#ed7953\"],[0.7777777777777778,\"#fb9f3a\"],[0.8888888888888888,\"#fdca26\"],[1.0,\"#f0f921\"]]},\"colorway\":[\"#636efa\",\"#EF553B\",\"#00cc96\",\"#ab63fa\",\"#FFA15A\",\"#19d3f3\",\"#FF6692\",\"#B6E880\",\"#FF97FF\",\"#FECB52\"],\"font\":{\"color\":\"#f2f5fa\"},\"geo\":{\"bgcolor\":\"rgb(17,17,17)\",\"lakecolor\":\"rgb(17,17,17)\",\"landcolor\":\"rgb(17,17,17)\",\"showlakes\":true,\"showland\":true,\"subunitcolor\":\"#506784\"},\"hoverlabel\":{\"align\":\"left\"},\"hovermode\":\"closest\",\"mapbox\":{\"style\":\"dark\"},\"paper_bgcolor\":\"rgb(17,17,17)\",\"plot_bgcolor\":\"rgb(17,17,17)\",\"polar\":{\"angularaxis\":{\"gridcolor\":\"#506784\",\"linecolor\":\"#506784\",\"ticks\":\"\"},\"bgcolor\":\"rgb(17,17,17)\",\"radialaxis\":{\"gridcolor\":\"#506784\",\"linecolor\":\"#506784\",\"ticks\":\"\"}},\"scene\":{\"xaxis\":{\"backgroundcolor\":\"rgb(17,17,17)\",\"gridcolor\":\"#506784\",\"gridwidth\":2,\"linecolor\":\"#506784\",\"showbackground\":true,\"ticks\":\"\",\"zerolinecolor\":\"#C8D4E3\"},\"yaxis\":{\"backgroundcolor\":\"rgb(17,17,17)\",\"gridcolor\":\"#506784\",\"gridwidth\":2,\"linecolor\":\"#506784\",\"showbackground\":true,\"ticks\":\"\",\"zerolinecolor\":\"#C8D4E3\"},\"zaxis\":{\"backgroundcolor\":\"rgb(17,17,17)\",\"gridcolor\":\"#506784\",\"gridwidth\":2,\"linecolor\":\"#506784\",\"showbackground\":true,\"ticks\":\"\",\"zerolinecolor\":\"#C8D4E3\"}},\"shapedefaults\":{\"line\":{\"color\":\"#f2f5fa\"}},\"sliderdefaults\":{\"bgcolor\":\"#C8D4E3\",\"bordercolor\":\"rgb(17,17,17)\",\"borderwidth\":1,\"tickwidth\":0},\"ternary\":{\"aaxis\":{\"gridcolor\":\"#506784\",\"linecolor\":\"#506784\",\"ticks\":\"\"},\"baxis\":{\"gridcolor\":\"#506784\",\"linecolor\":\"#506784\",\"ticks\":\"\"},\"bgcolor\":\"rgb(17,17,17)\",\"caxis\":{\"gridcolor\":\"#506784\",\"linecolor\":\"#506784\",\"ticks\":\"\"}},\"title\":{\"x\":0.05},\"updatemenudefaults\":{\"bgcolor\":\"#506784\",\"borderwidth\":0},\"xaxis\":{\"automargin\":true,\"gridcolor\":\"#283442\",\"linecolor\":\"#506784\",\"ticks\":\"\",\"title\":{\"standoff\":15},\"zerolinecolor\":\"#283442\",\"zerolinewidth\":2},\"yaxis\":{\"automargin\":true,\"gridcolor\":\"#283442\",\"linecolor\":\"#506784\",\"ticks\":\"\",\"title\":{\"standoff\":15},\"zerolinecolor\":\"#283442\",\"zerolinewidth\":2}}},\"xaxis\":{\"anchor\":\"y\",\"domain\":[0.0,0.94],\"title\":{\"text\":\"stock price\"},\"showgrid\":true,\"gridcolor\":\"grey\",\"ticks\":\"outside\",\"tickwidth\":1,\"tickcolor\":\"grey\",\"ticklen\":5,\"linecolor\":\"grey\"},\"yaxis\":{\"anchor\":\"x\",\"domain\":[0.0,1.0],\"title\":{\"text\":\"delta level\"},\"showgrid\":true,\"gridcolor\":\"grey\",\"ticks\":\"outside\",\"tickwidth\":1,\"tickcolor\":\"grey\",\"ticklen\":5,\"linecolor\":\"grey\"},\"yaxis2\":{\"anchor\":\"x\",\"overlaying\":\"y\",\"side\":\"right\",\"title\":{\"text\":\"error level\"},\"showgrid\":false,\"gridcolor\":\"grey\",\"ticks\":\"outside\",\"tickwidth\":1,\"tickcolor\":\"grey\",\"ticklen\":5,\"linecolor\":\"grey\"},\"title\":{\"x\":0.5},\"legend\":{\"orientation\":\"h\",\"yanchor\":\"bottom\",\"y\":1.02,\"xanchor\":\"right\",\"x\":0.75},\"showlegend\":true},                        {\"responsive\": true}                    ).then(function(){\n",
              "                            \n",
              "var gd = document.getElementById('5b233661-d91b-48d6-9d7d-50020174d1b1');\n",
              "var x = new MutationObserver(function (mutations, observer) {{\n",
              "        var display = window.getComputedStyle(gd).display;\n",
              "        if (!display || display === 'none') {{\n",
              "            console.log([gd, 'removed!']);\n",
              "            Plotly.purge(gd);\n",
              "            observer.disconnect();\n",
              "        }}\n",
              "}});\n",
              "\n",
              "// Listen for the removal of the full notebook cells\n",
              "var notebookContainer = gd.closest('#notebook-container');\n",
              "if (notebookContainer) {{\n",
              "    x.observe(notebookContainer, {childList: true});\n",
              "}}\n",
              "\n",
              "// Listen for the clearing of the current output cell\n",
              "var outputEl = gd.closest('.output');\n",
              "if (outputEl) {{\n",
              "    x.observe(outputEl, {childList: true});\n",
              "}}\n",
              "\n",
              "                        })                };                            </script>        </div>\n",
              "</body>\n",
              "</html>"
            ]
          },
          "metadata": {}
        }
      ]
    },
    {
      "cell_type": "markdown",
      "source": [
        "<a class=\"anchor\" name=\"subsection_1_2_2\"></a>\n",
        "### 1.2.2 Vega: Option's Volatility Sensitivity"
      ],
      "metadata": {
        "id": "-w1lXJE2AVc7"
      }
    },
    {
      "cell_type": "code",
      "source": [],
      "metadata": {
        "id": "Zenf8DLEBnzX"
      },
      "execution_count": 6,
      "outputs": []
    },
    {
      "cell_type": "markdown",
      "source": [
        "<a class=\"anchor\" name=\"subsection_1_2_3\"></a>\n",
        "### 1.2.3 Theta: Option's Time Sensitivity"
      ],
      "metadata": {
        "id": "bObSMuVbAVoL"
      }
    },
    {
      "cell_type": "markdown",
      "source": [],
      "metadata": {
        "id": "8uANNYIMBrQP"
      }
    },
    {
      "cell_type": "code",
      "source": [],
      "metadata": {
        "id": "sVX6tiFrBr2r"
      },
      "execution_count": 6,
      "outputs": []
    },
    {
      "cell_type": "markdown",
      "source": [
        "<a class=\"anchor\" name=\"subsection_1_2_4\"></a>\n",
        "### 1.2.4 Rho: Option's Interest Rate Sensitivity"
      ],
      "metadata": {
        "id": "Bq5iRC62AVxb"
      }
    },
    {
      "cell_type": "markdown",
      "source": [],
      "metadata": {
        "id": "jBtPUn9SBtGm"
      }
    },
    {
      "cell_type": "code",
      "source": [],
      "metadata": {
        "id": "XVGpT8u3BtiJ"
      },
      "execution_count": 6,
      "outputs": []
    },
    {
      "cell_type": "markdown",
      "source": [
        "<a class=\"anchor\" name=\"section_1_3\"></a>\n",
        "## 1.3 Second Order Greeks"
      ],
      "metadata": {
        "id": "Pj6-fsQcAV4l"
      }
    },
    {
      "cell_type": "markdown",
      "source": [],
      "metadata": {
        "id": "mjKKGzo5BulK"
      }
    },
    {
      "cell_type": "code",
      "source": [],
      "metadata": {
        "id": "VdWR8F1CBvC0"
      },
      "execution_count": 6,
      "outputs": []
    },
    {
      "cell_type": "markdown",
      "source": [
        "<a class=\"anchor\" name=\"subsection_1_3_1\"></a>\n",
        "### 1.3.1 Charm: Delta's Time Sensitivity"
      ],
      "metadata": {
        "id": "YeCKvyw0AV-y"
      }
    },
    {
      "cell_type": "markdown",
      "source": [
        "* add-on, to be developed or deleted"
      ],
      "metadata": {
        "id": "m2s58ngcBw1U"
      }
    },
    {
      "cell_type": "code",
      "source": [],
      "metadata": {
        "id": "I6oJQHGXBxRj"
      },
      "execution_count": 6,
      "outputs": []
    },
    {
      "cell_type": "markdown",
      "source": [
        "<a class=\"anchor\" name=\"subsection_1_3_2\"></a>\n",
        "### 1.3.2 Gamma: Delta's Underlying Price Sensitivity"
      ],
      "metadata": {
        "id": "cMmQDMCCAWEw"
      }
    },
    {
      "cell_type": "markdown",
      "source": [],
      "metadata": {
        "id": "NBlLMr40ByNq"
      }
    },
    {
      "cell_type": "code",
      "source": [],
      "metadata": {
        "id": "ZZ7Ke1UmByw1"
      },
      "execution_count": 6,
      "outputs": []
    },
    {
      "cell_type": "markdown",
      "source": [
        "<a class=\"anchor\" name=\"subsection_1_3_3\"></a>\n",
        "### 1.3.3 Vanna: Vega's Underlying Price Sensitivity"
      ],
      "metadata": {
        "id": "i_KqPUeuBEAQ"
      }
    },
    {
      "cell_type": "markdown",
      "source": [
        "* add-on, to be developed or deleted"
      ],
      "metadata": {
        "id": "OsL-K4eXB0Ah"
      }
    },
    {
      "cell_type": "code",
      "source": [],
      "metadata": {
        "id": "C-687BcYBzIv"
      },
      "execution_count": 6,
      "outputs": []
    },
    {
      "cell_type": "markdown",
      "source": [
        "<a class=\"anchor\" name=\"subsection_1_3_4\"></a>\n",
        "### 1.3.4 Vera: Vega's Interest Rate Sensitivity"
      ],
      "metadata": {
        "id": "Zj3dq2OKBGXK"
      }
    },
    {
      "cell_type": "markdown",
      "source": [
        "* add-on, to be developed or deleted"
      ],
      "metadata": {
        "id": "7_vVuaBRB2RB"
      }
    },
    {
      "cell_type": "code",
      "source": [],
      "metadata": {
        "id": "K27h_cXOB16o"
      },
      "execution_count": 6,
      "outputs": []
    },
    {
      "cell_type": "markdown",
      "source": [
        "<a class=\"anchor\" name=\"subsection_1_3_5\"></a>\n",
        "### 1.3.5 Veta: Vega's Time Sensitivity"
      ],
      "metadata": {
        "id": "SwrvonzYBGhz"
      }
    },
    {
      "cell_type": "markdown",
      "source": [
        "* add-on, to be developed or deleted"
      ],
      "metadata": {
        "id": "hUFFS6fiB3Pe"
      }
    },
    {
      "cell_type": "code",
      "source": [],
      "metadata": {
        "id": "2l7mdRhaB3is"
      },
      "execution_count": 6,
      "outputs": []
    },
    {
      "cell_type": "markdown",
      "source": [
        "<a class=\"anchor\" name=\"subsection_1_3_6\"></a>\n",
        "### 1.3.6 Volga: Vega's Volatility Sensitivity"
      ],
      "metadata": {
        "id": "d9dtt3dfBGqm"
      }
    },
    {
      "cell_type": "markdown",
      "source": [
        "* add-on, to be developed or deleted"
      ],
      "metadata": {
        "id": "R0zCAsLwB4zq"
      }
    },
    {
      "cell_type": "code",
      "source": [],
      "metadata": {
        "id": "YskrYFTfBUOz"
      },
      "execution_count": 6,
      "outputs": []
    }
  ]
}